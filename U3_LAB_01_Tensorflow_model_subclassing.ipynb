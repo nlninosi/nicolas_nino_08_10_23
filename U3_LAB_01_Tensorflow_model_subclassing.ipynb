{
  "cells": [
    {
      "cell_type": "markdown",
      "metadata": {
        "id": "x3qyaJmw_ArL"
      },
      "source": [
        "# LAB 3.1 - TF model subclassing"
      ]
    },
    {
      "cell_type": "code",
      "execution_count": null,
      "metadata": {
        "id": "-D8Dg2CA_ArP",
        "colab": {
          "base_uri": "https://localhost:8080/",
          "height": 35
        },
        "outputId": "c616de76-db34-40f6-d642-bb1431659440"
      },
      "outputs": [
        {
          "output_type": "display_data",
          "data": {
            "text/plain": [
              "<IPython.core.display.HTML object>"
            ],
            "text/html": [
              "\n",
              "<meta name=\"google-signin-client_id\"\n",
              "      content=\"461673936472-kdjosv61up3ac1ajeuq6qqu72upilmls.apps.googleusercontent.com\"/>\n",
              "<script src=\"https://apis.google.com/js/client:platform.js?onload=google_button_start\"></script>\n",
              "    "
            ]
          },
          "metadata": {}
        },
        {
          "output_type": "stream",
          "name": "stdout",
          "text": [
            "replicating local resources\n"
          ]
        }
      ],
      "source": [
        "!wget -nc --no-cache -O init.py -q https://raw.githubusercontent.com/rramosp/2021.deeplearning/main/content/init.py\n",
        "import init; init.init(force_download=False);"
      ]
    },
    {
      "cell_type": "code",
      "execution_count": null,
      "metadata": {
        "scrolled": true,
        "id": "SE3JQey2_ArR",
        "colab": {
          "base_uri": "https://localhost:8080/",
          "height": 100,
          "referenced_widgets": [
            "cf39699a8d0f4bae8da9e7efcad995c4",
            "d3b4c86dacb84887a8205d8009612ce3",
            "58b51f3dada14c6a983dced3eed2b6c6",
            "cbc30b8874f9442eb7f84e93402c1d07",
            "28b21f4156ce4cd588d53e8e0f56c576",
            "7edd6a8370044b9c86827a5e95de851b",
            "43bf7eabb63f48eea3f1f6f904a3bc7c",
            "7741d1c7464642829889c8909e4adedb",
            "590d3af231654c60a530dd583d983f91",
            "da68b1e4dd494128a3f72191afb450b6",
            "9877f0726ffc497ab9ddd79f17048036",
            "03ec0018469d4433a18f6cf599580f48",
            "89d0636f03c140e195efe85aa2ab5062",
            "434cffd9341f4c5f8ff55624f4275d02",
            "81980ae3eeb94ce28ab198d8ec936f21",
            "d04f9f4cfdf5488991d65e4a67181caf",
            "6893073fc57f4bc4814652045cd4b6e5",
            "6e487b322b784dc489d4c123395c024e",
            "65db6f10d6b340a58421c46223cdab1b"
          ]
        },
        "outputId": "7418cfc4-ed80-4bea-ef5a-8c48462662ad"
      },
      "outputs": [
        {
          "output_type": "stream",
          "name": "stdout",
          "text": [
            "logging in as nlninosi@unal.edu.co... please wait\n",
            "using course session deeplearning.unal::intro_si_2022_2\n",
            "success!! you are logged in\n"
          ]
        }
      ],
      "source": [
        "from local.lib.rlxmoocapi import submit, session\n",
        "import inspect\n",
        "session.LoginSequence(endpoint=init.endpoint, course_id=init.course_id, lab_id=\"L03.01\", varname=\"student\");"
      ]
    },
    {
      "cell_type": "code",
      "execution_count": null,
      "metadata": {
        "id": "jRoOKdMg_ArS",
        "colab": {
          "base_uri": "https://localhost:8080/",
          "height": 36
        },
        "outputId": "0447dae9-2b5c-4ce2-c282-8bb79a45fcf4"
      },
      "outputs": [
        {
          "output_type": "execute_result",
          "data": {
            "text/plain": [
              "'2.9.2'"
            ],
            "application/vnd.google.colaboratory.intrinsic+json": {
              "type": "string"
            }
          },
          "metadata": {},
          "execution_count": 3
        }
      ],
      "source": [
        "import numpy as np\n",
        "import os\n",
        "os.environ['TF_CPP_MIN_LOG_LEVEL'] = '3'\n",
        "import tensorflow as tf\n",
        "import matplotlib.pyplot as plt\n",
        "%matplotlib inline\n",
        "%load_ext tensorboard\n",
        "\n",
        "from sklearn.datasets import *\n",
        "from local.lib import mlutils\n",
        "tf.__version__"
      ]
    },
    {
      "cell_type": "markdown",
      "metadata": {
        "id": "ohXkS6BT_ArS"
      },
      "source": [
        "\n",
        "\n",
        "**A multilayer perceptron**\n",
        "\n",
        "assuming $n$ layers, the output at layer $i$\n",
        "\n",
        "$$\\mathbf{a}_i = \\text{activation}(\\mathbf{a}_{i-1} \\cdot \\mathbf{W}_i + \\mathbf{b}_i)$$\n",
        "\n",
        "at the first layer\n",
        "\n",
        "$$\\mathbf{a}_0 = \\text{activation}(\\mathbf{X} \\cdot \\mathbf{W}_0 + \\mathbf{b}_0)$$\n",
        "\n",
        "and the layer prediction is the output of the last layer:\n",
        "\n",
        "$$\\hat{\\mathbf{y}} = \\mathbf{a}_{n-1}$$\n",
        "\n",
        "with $\\text{activation}$ being an activation function, such as $\\text{sigmoid}(z) = \\frac{1}{1+e^{-z}}$, $\\text{tanh}$, $\\text{ReLU}$, etc.\n",
        "\n",
        "\n",
        "**Cost (with regularization)**\n",
        "\n",
        "\n",
        "$$J(\\mathbf{b}_1, b_2, \\mathbf{W}_1, \\mathbf{W}_2) = \\frac{1}{m}\\sum_{i=0}^{m-1} (\\hat{y}-y)^2 + \\lambda \\sum_{i=0}^{n-1} \\bigg[ \\| \\mathbf{b}_i\\|^2 + \\|\\mathbf{W}_i\\|^2 \\bigg]$$\n",
        "\n",
        "\n",
        "$\\lambda$ regulates the participation of the regularization terms. Given a vector or matrix $\\mathbf{T}$, its squared norm is denoted by $||\\mathbf{T}||^2 \\in \\mathbb{R}$ and it's computed by squaring all its elements and summing them all up.\n"
      ]
    },
    {
      "cell_type": "markdown",
      "metadata": {
        "id": "8caI03AE_ArT"
      },
      "source": [
        "## TASK 1: Model `build`\n",
        "\n",
        "Observe the class template below which is used to build a multilayer perceptron with a specific number of layers. In the constructor.\n",
        "\n",
        "- `neurons` must be a list of integers specifying the number of neurons of each hidden layer and the output layer.\n",
        "- `activations` must be a list of strings specifying  the activations of the neurons of each layer.\n",
        "\n",
        "Both `neurons` and `activations` must have the same number of elements. Observe how in the class constructor (`__init__`) we check for this and transform the list of activation strings to actual TF funcions.\n",
        "\n",
        "**YOU MUST** complete the `build` method in the class below so that `self.W` and `self.b` contain a list of tensors with randomly initialized weights for each layer. Create the weights by calling the `self.add_weights` function for each layer, both for the weights (add them to list `self.W`) and the biases (add them to list `b`). Call `self.add_weights` with parameters `initializer='random_normal', trainable=True, dtype=tf.float32`.\n",
        "\n",
        "Note that the shape of the first layer weights are not known until the `build` method is called which is when the `input_shape` for the input data is known. For instance, the following invokations\n",
        "\n",
        "\n",
        "    >> mlp = MLP_class(neurons=[10,5,1], activations=[\"tanh\",\"tanh\", \"sigmoid\"])\n",
        "    >> mlp.build([None, 2])\n",
        "    >> print (\"W shapes\", [i.shape for i in mlp.W])\n",
        "    \n",
        "should produce the following output\n",
        "    \n",
        "    W shapes [TensorShape([2, 10]), TensorShape([10, 5]), TensorShape([5, 1])]\n",
        "    b shapes [TensorShape([10]), TensorShape([5]), TensorShape([1])]"
      ]
    },
    {
      "cell_type": "code",
      "execution_count": null,
      "metadata": {
        "id": "zgnykqa7_ArU"
      },
      "outputs": [],
      "source": [
        "def MLP(neurons, activations, reg=0.):\n",
        "\n",
        "    from tensorflow.keras import Model\n",
        "    from tensorflow.keras.activations import relu, sigmoid, tanh, linear\n",
        "    import numpy as np\n",
        "    import tensorflow as tf\n",
        "\n",
        "    class MLP_class(Model):\n",
        "        def __init__(self, neurons, activations, reg=0.):\n",
        "            super().__init__()\n",
        "            self.activation_map = {\"linear\": linear, \"relu\": relu, \"tanh\":tanh, \"sigmoid\": sigmoid}\n",
        "\n",
        "            assert len(neurons)==len(activations), \\\n",
        "                        \"must have the same number of neurons and activations\"\n",
        "\n",
        "            assert np.alltrue([i in self.activation_map.keys() for i in activations]), \\\n",
        "                                \"activation string not recognized\"\n",
        "\n",
        "            self.neurons = neurons\n",
        "            self.reg = reg\n",
        "            self.activations = [self.activation_map[i] for i in activations]\n",
        "\n",
        "            super().__init__()\n",
        "\n",
        "        def build(self, input_shape):\n",
        "            self.W = []\n",
        "            self.b = []\n",
        "\n",
        "            self.W.append(self.add_weight(shape=(input_shape[1],self.neurons[0]), initializer='random_normal', trainable=True, dtype=tf.float32))\n",
        "            for i in range (len(self.neurons)):\n",
        "              if i != len(self.neurons) - 1:\n",
        "                self.W.append(self.add_weight(shape=(self.neurons[i],self.neurons[i+1]), initializer='random_normal', trainable=True, dtype=tf.float32))\n",
        "              self.b.append(self.add_weight(shape=(self.neurons[i],), initializer='random_normal', trainable=True, dtype=tf.float32))\n",
        "            #self.b = self.add_weight(initializer='random_normal', trainable=True, dtype=tf.float32)\n",
        "\n",
        "\n",
        "    return MLP_class(neurons, activations, reg)\n"
      ]
    },
    {
      "cell_type": "markdown",
      "metadata": {
        "id": "PneJmR96_ArU"
      },
      "source": [
        "test manually your code"
      ]
    },
    {
      "cell_type": "code",
      "execution_count": null,
      "metadata": {
        "id": "JU6s3ZNk_ArV",
        "colab": {
          "base_uri": "https://localhost:8080/"
        },
        "outputId": "2ed86583-24a3-4884-ca05-0dc4702998a4"
      },
      "outputs": [
        {
          "output_type": "stream",
          "name": "stdout",
          "text": [
            "W shapes [TensorShape([2, 10]), TensorShape([10, 5]), TensorShape([5, 1])]\n",
            "b shapes [TensorShape([10]), TensorShape([5]), TensorShape([1])]\n"
          ]
        }
      ],
      "source": [
        "mlp = MLP(neurons=[10,5,1], activations=[\"tanh\",\"tanh\", \"sigmoid\"])\n",
        "mlp.build([None, 2])\n",
        "print (\"W shapes\", [i.shape for i in mlp.W])\n",
        "print (\"b shapes\", [i.shape for i in mlp.b])"
      ]
    },
    {
      "cell_type": "markdown",
      "metadata": {
        "id": "jD8net5z_ArV"
      },
      "source": [
        "**Registra tu solución en linea**"
      ]
    },
    {
      "cell_type": "code",
      "execution_count": null,
      "metadata": {
        "scrolled": false,
        "id": "Y08L8Z_k_ArV",
        "colab": {
          "base_uri": "https://localhost:8080/",
          "height": 128
        },
        "outputId": "3af66424-5321-4251-dd63-33ad7ec001f8"
      },
      "outputs": [
        {
          "output_type": "display_data",
          "data": {
            "text/plain": [
              "<IPython.core.display.HTML object>"
            ],
            "text/html": [
              "\n",
              "                    <b>T1 submitted.</b> <b><font color=\"blue\">your grade is 5</font></b> \n",
              "                    <p/><pre>----- grader message -------</pre>testing your code with 100 random calls<br/><b>correct</b><pre>----------------------------</pre>\n",
              "                    <p/><p/>\n",
              "                    <div style=\"font-size:10px\"><b>SUBMISSION CODE</b> vscXlp04yXhOYsMe29aPCXAn2tJoJ0S8BINoHftlh6qx8a6lIHISboOFPCpjl4OhAciwT8eJec7yLu1RkmnsbXdPGMIBm0dx1194fxhPVbSxJl48CmqrfO+zb6Ubmp9XJX3oySi8KXP/tZ1X0lt3uUOEr1TWB5HguUcBA43LAaY=</div>\n",
              "                    "
            ]
          },
          "metadata": {}
        }
      ],
      "source": [
        "student.submit_task(namespace=globals(), task_id='T1');"
      ]
    },
    {
      "cell_type": "markdown",
      "metadata": {
        "id": "x0ZxeL2B_ArV"
      },
      "source": [
        "## Task 2: Model `call`\n",
        "\n",
        "Complete the `call` method below so that it computes the output of the configured MLP with the input `X` as\n",
        "\n",
        "$$\\hat{\\mathbf{y}} = \\mathbf{a}_{n-1}$$\n",
        "\n",
        "as described above. Use `self.W`, `self.b` and `self.activations` as constructed previously on the `build` and `__init__` methods."
      ]
    },
    {
      "cell_type": "code",
      "execution_count": null,
      "metadata": {
        "id": "uo7inVdK_ArW"
      },
      "outputs": [],
      "source": [
        "def MLP2(neurons, activations, reg=0.):\n",
        "\n",
        "    from tensorflow.keras import Model\n",
        "    from tensorflow.keras.activations import relu, sigmoid, tanh, linear\n",
        "\n",
        "    class MLP_class(Model):\n",
        "        def __init__(self, neurons, activations, reg=0.):\n",
        "            super().__init__()\n",
        "            self.activation_map = {\"linear\": linear, \"relu\": relu, \"tanh\":tanh, \"sigmoid\": sigmoid}\n",
        "\n",
        "            assert len(neurons)==len(activations), \\\n",
        "                        \"must have the same number of neurons and activations\"\n",
        "\n",
        "            assert np.alltrue([i in self.activation_map.keys() for i in activations]), \\\n",
        "                                \"activation string not recognized\"\n",
        "\n",
        "            self.neurons = neurons\n",
        "            self.reg = reg\n",
        "            self.activations = [self.activation_map[i] for i in activations]\n",
        "\n",
        "            super().__init__()\n",
        "\n",
        "        def build(self, input_shape):\n",
        "            self.W = []\n",
        "            self.b = []\n",
        "\n",
        "            self.W.append(self.add_weight(shape=(input_shape[1],self.neurons[0]), initializer='random_normal', trainable=True, dtype=tf.float32))\n",
        "            for i in range (len(self.neurons)):\n",
        "              if i != len(self.neurons) - 1:\n",
        "                self.W.append(self.add_weight(shape=(self.neurons[i],self.neurons[i+1]), initializer='random_normal', trainable=True, dtype=tf.float32))\n",
        "              self.b.append(self.add_weight(shape=(self.neurons[i],), initializer='random_normal', trainable=True, dtype=tf.float32))\n",
        "\n",
        "        @tf.function\n",
        "        def call(self, X):\n",
        "            W = [i for i in self.W]\n",
        "            b = [i for i in self.b]\n",
        "\n",
        "            a = tf.matmul(X,W[0])+b[0]\n",
        "            for i in range (1, len(self.activations)):\n",
        "              s = self.activations[i](tf.matmul(a,W[i])+b[i])\n",
        "              a = s\n",
        "            return s\n",
        "\n",
        "    return MLP_class(neurons, activations, reg)"
      ]
    },
    {
      "cell_type": "markdown",
      "metadata": {
        "id": "R4Z_GRO2_ArW"
      },
      "source": [
        "test manually your code, the following two cells must return the same value everytime you execute them. Observe your MLP will initialize to different random weights each time."
      ]
    },
    {
      "cell_type": "code",
      "execution_count": null,
      "metadata": {
        "id": "PrjafgWv_ArW",
        "colab": {
          "base_uri": "https://localhost:8080/"
        },
        "outputId": "fa056780-77ad-4b64-f822-dffeb91756fd"
      },
      "outputs": [
        {
          "output_type": "execute_result",
          "data": {
            "text/plain": [
              "<tf.Tensor: shape=(4, 2), dtype=float32, numpy=\n",
              "array([[0.503266  , 0.49576104],\n",
              "       [0.5032798 , 0.49557948],\n",
              "       [0.503847  , 0.4957911 ],\n",
              "       [0.5034633 , 0.49588883]], dtype=float32)>"
            ]
          },
          "metadata": {},
          "execution_count": 8
        }
      ],
      "source": [
        "X = np.random.random(size=(4,2))\n",
        "neurons = [3,2]\n",
        "mlp = MLP2(neurons=[3,2], activations=[\"linear\", \"sigmoid\"])\n",
        "mlp(X)"
      ]
    },
    {
      "cell_type": "code",
      "execution_count": null,
      "metadata": {
        "id": "koWyOtgJ_ArW",
        "colab": {
          "base_uri": "https://localhost:8080/"
        },
        "outputId": "87fbcd81-c01b-4839-9da1-4e568eaaf572"
      },
      "outputs": [
        {
          "output_type": "execute_result",
          "data": {
            "text/plain": [
              "array([[0.50326596, 0.49576104],\n",
              "       [0.50327978, 0.49557949],\n",
              "       [0.50384699, 0.49579112],\n",
              "       [0.50346329, 0.49588884]])"
            ]
          },
          "metadata": {},
          "execution_count": 9
        }
      ],
      "source": [
        "sigm = lambda x: 1/(1+np.exp(-x))\n",
        "W = [i.numpy() for i in mlp.W]\n",
        "b = [i.numpy() for i in mlp.b]\n",
        "sigm((X.dot(W[0])+b[0]).dot(W[1])+b[1])"
      ]
    },
    {
      "cell_type": "markdown",
      "metadata": {
        "id": "3Gf305mm_ArW"
      },
      "source": [
        "**Registra tu solución en linea**"
      ]
    },
    {
      "cell_type": "code",
      "execution_count": null,
      "metadata": {
        "scrolled": false,
        "id": "16Z5nlOs_ArX",
        "colab": {
          "base_uri": "https://localhost:8080/",
          "height": 128
        },
        "outputId": "7b795938-32f1-424d-d3a5-d6903193be34"
      },
      "outputs": [
        {
          "output_type": "display_data",
          "data": {
            "text/plain": [
              "<IPython.core.display.HTML object>"
            ],
            "text/html": [
              "\n",
              "                    <b>T2 submitted.</b> <b><font color=\"blue\">your grade is 5</font></b> \n",
              "                    <p/><pre>----- grader message -------</pre>testing your code with 100 random calls<br/><b>correct</b><pre>----------------------------</pre>\n",
              "                    <p/><p/>\n",
              "                    <div style=\"font-size:10px\"><b>SUBMISSION CODE</b> 9kG1vbPKKmGJMrXQbM2UQTaj514232xKJZO1VbVyHinLwITFrnkgGppz6bjhFAjEEJgw3KLnPtM7EthgH7DZ0Unlt8BqoWGfBPq0rgjmEqHgrSyBg19L/VmILepKilVIRk0sU02nPw2Y2VK3ub/4BpXuv/jSkpn75cjVNHFP2hI=</div>\n",
              "                    "
            ]
          },
          "metadata": {}
        }
      ],
      "source": [
        "student.submit_task(namespace=globals(), task_id='T2');"
      ]
    },
    {
      "cell_type": "code",
      "execution_count": null,
      "metadata": {
        "id": "uw1bfMrj_ArX"
      },
      "outputs": [],
      "source": []
    },
    {
      "cell_type": "markdown",
      "metadata": {
        "id": "iPYXzeCz_ArX"
      },
      "source": [
        "## Task 3: Loss function\n",
        "\n",
        "Complete the `loss` method below so that it computes the loss of the `MLP` given predictions `y_pred` (as the output of the network) and desired output `y_true`.\n",
        "\n",
        "$$J(\\mathbf{b}_1, b_2, \\mathbf{W}_1, \\mathbf{W}_2) = \\frac{1}{m}\\sum_{i=0}^{m-1} (\\hat{y}-y)^2 + \\lambda \\sum_{i=0}^{n-1} \\bigg[ \\| \\mathbf{b}_i\\|^2_{mean} + \\|\\mathbf{W}_i\\|^2_{mean} \\bigg]$$\n",
        "\n",
        "\n",
        "observe the regularization term $\\lambda$ which is stored as `self.reg` in your class.\n",
        "\n",
        "For any weight or bias $\\mathbf{k}$, the expression $\\| \\mathbf{k}\\|^2_{mean}$ is the mean of all its elements squared."
      ]
    },
    {
      "cell_type": "code",
      "execution_count": null,
      "metadata": {
        "id": "4KWvKApi_ArX"
      },
      "outputs": [],
      "source": [
        "def MLP3(neurons, activations, reg=0.):\n",
        "\n",
        "    from tensorflow.keras import Model\n",
        "    from tensorflow.keras.activations import relu, sigmoid, tanh, linear\n",
        "\n",
        "    class MLP_class(Model):\n",
        "        def __init__(self, neurons, activations, reg=0.):\n",
        "            super().__init__()\n",
        "            self.activation_map = {\"linear\": linear, \"relu\": relu, \"tanh\":tanh, \"sigmoid\": sigmoid}\n",
        "\n",
        "            assert len(neurons)==len(activations), \\\n",
        "                        \"must have the same number of neurons and activations\"\n",
        "\n",
        "            assert np.alltrue([i in self.activation_map.keys() for i in activations]), \\\n",
        "                                \"activation string not recognized\"\n",
        "\n",
        "            self.neurons = neurons\n",
        "            self.reg = reg\n",
        "            self.activations = [self.activation_map[i] for i in activations]\n",
        "\n",
        "            super().__init__()\n",
        "\n",
        "        def build(self, input_shape):\n",
        "            self.W = []\n",
        "            self.b = []\n",
        "\n",
        "            self.W.append(self.add_weight(shape=(input_shape[1],self.neurons[0]), initializer='random_normal', trainable=True, dtype=tf.float32))\n",
        "            for i in range (len(self.neurons)):\n",
        "              if i != len(self.neurons) - 1:\n",
        "                self.W.append(self.add_weight(shape=(self.neurons[i],self.neurons[i+1]), initializer='random_normal', trainable=True, dtype=tf.float32))\n",
        "              self.b.append(self.add_weight(shape=(self.neurons[i],), initializer='random_normal', trainable=True, dtype=tf.float32))\n",
        "\n",
        "        @tf.function\n",
        "        def call(self, X):\n",
        "            W = [i for i in self.W]\n",
        "            b = [i for i in self.b]\n",
        "\n",
        "            a = tf.matmul(X,W[0])+b[0]\n",
        "            for i in range (1, len(self.activations)):\n",
        "              s = self.activations[i](tf.matmul(a,W[i])+b[i])\n",
        "              a = s\n",
        "            return s\n",
        "\n",
        "        @tf.function\n",
        "        def loss(self, y_true, y_pred):\n",
        "            z = [(tf.reduce_mean(self.W[i])+tf.reduce_mean(self.b[i]))**2 for i in range(len(self.neurons))]\n",
        "            r = tf.reduce_mean((y_pred-y_true)**2) + self.reg * tf.reduce_mean(z, axis=0)\n",
        "            return r\n",
        "\n",
        "    return MLP_class(neurons, activations, reg)"
      ]
    },
    {
      "cell_type": "markdown",
      "metadata": {
        "id": "ZCUJ2TCJ_ArY"
      },
      "source": [
        "test manually your code, the following two cells must return the same value everytime you execute them. Observe your MLP will initialize to different random weights each time."
      ]
    },
    {
      "cell_type": "code",
      "execution_count": null,
      "metadata": {
        "id": "E6mBScBU_ArY",
        "colab": {
          "base_uri": "https://localhost:8080/"
        },
        "outputId": "a1273204-f1eb-46e9-8a67-a63d5cece4d8"
      },
      "outputs": [
        {
          "output_type": "execute_result",
          "data": {
            "text/plain": [
              "0.253492"
            ]
          },
          "metadata": {},
          "execution_count": 12
        }
      ],
      "source": [
        "X = np.random.random(size=(4,2)).astype(np.float32)\n",
        "y_true = np.random.randint(2, size=(len(X),1)).astype(np.float32)\n",
        "neurons = [3,2]\n",
        "mlp = MLP3(neurons=[3,1], activations=[\"linear\", \"sigmoid\"], reg=0.2)\n",
        "mlp.loss(mlp(X), y_true).numpy()"
      ]
    },
    {
      "cell_type": "code",
      "execution_count": null,
      "metadata": {
        "id": "a8oJHzD0_ArY",
        "colab": {
          "base_uri": "https://localhost:8080/"
        },
        "outputId": "7a3a6ea2-ce0b-4246-b65d-6b92d8dea2b4"
      },
      "outputs": [
        {
          "output_type": "execute_result",
          "data": {
            "text/plain": [
              "0.25421332521364093"
            ]
          },
          "metadata": {},
          "execution_count": 13
        }
      ],
      "source": [
        "sigm = lambda x: 1/(1+np.exp(-x))\n",
        "W = [i.numpy() for i in mlp.W]\n",
        "b = [i.numpy() for i in mlp.b]\n",
        "y_pred = sigm((X.dot(W[0])+b[0]).dot(W[1])+b[1])\n",
        "((y_pred-y_true)**2).mean() + mlp.reg * np.sum([(i**2).numpy().mean() for i in mlp.W+mlp.b])"
      ]
    },
    {
      "cell_type": "markdown",
      "metadata": {
        "id": "GnzvRGba_ArY"
      },
      "source": [
        "**Registra tu solución en linea**"
      ]
    },
    {
      "cell_type": "code",
      "execution_count": null,
      "metadata": {
        "scrolled": true,
        "id": "2QMiwUcH_ArY",
        "colab": {
          "base_uri": "https://localhost:8080/",
          "height": 128
        },
        "outputId": "77296f81-9626-4e7c-c30a-566197192b0c"
      },
      "outputs": [
        {
          "output_type": "display_data",
          "data": {
            "text/plain": [
              "<IPython.core.display.HTML object>"
            ],
            "text/html": [
              "\n",
              "                    <b>T3 submitted.</b> <b><font color=\"blue\">your grade is 5</font></b> \n",
              "                    <p/><pre>----- grader message -------</pre>testing your code with 100 random calls<br/><b>correct</b><pre>----------------------------</pre>\n",
              "                    <p/><p/>\n",
              "                    <div style=\"font-size:10px\"><b>SUBMISSION CODE</b> I7eZxQXe+STRxOeyrxrTHuwGn7prjk3HhIl9XWORrvmx4LeKwOq1cPllt2IjuoZWmkQV3Tj2hHKD2U9Sty/6XqQFhFIbaLHYViTp4JYJY8nK3sGwgrObnDIiAwA2HjJDD2sACddRlJqTgZU5Is2rcEegxF1sVF4+LhW+FH+obN8=</div>\n",
              "                    "
            ]
          },
          "metadata": {}
        }
      ],
      "source": [
        "student.submit_task(namespace=globals(), task_id='T3');"
      ]
    },
    {
      "cell_type": "markdown",
      "metadata": {
        "id": "fZAQLaH9_ArY"
      },
      "source": [
        "## Done!!\n",
        "\n",
        "now you can try your class with synthetic data"
      ]
    },
    {
      "cell_type": "code",
      "execution_count": null,
      "metadata": {
        "id": "GBPtUfZ6_ArZ",
        "colab": {
          "base_uri": "https://localhost:8080/",
          "height": 283
        },
        "outputId": "181947be-d14d-458b-a320-1686eaf1d4e4"
      },
      "outputs": [
        {
          "output_type": "execute_result",
          "data": {
            "text/plain": [
              "<matplotlib.collections.PathCollection at 0x7f218653d150>"
            ]
          },
          "metadata": {},
          "execution_count": 15
        },
        {
          "output_type": "display_data",
          "data": {
            "text/plain": [
              "<Figure size 432x288 with 1 Axes>"
            ],
            "image/png": "[encoded data removed]"
          },
          "metadata": {
            "needs_background": "light"
          }
        }
      ],
      "source": [
        "X, y = make_moons(200, noise=.35)\n",
        "X, y = X.astype(np.float32), y.astype(np.float32).reshape(-1,1)\n",
        "plt.scatter(X[:,0][y[:,0]==0], X[:,1][y[:,0]==0], color=\"red\", label=\"class 0\")\n",
        "plt.scatter(X[:,0][y[:,0]==1], X[:,1][y[:,0]==1], color=\"blue\", label=\"class 1\")"
      ]
    },
    {
      "cell_type": "markdown",
      "metadata": {
        "id": "xuy1Lh4y_ArZ"
      },
      "source": [
        "create MLP and train!!"
      ]
    },
    {
      "cell_type": "code",
      "execution_count": null,
      "metadata": {
        "id": "1Uj2DnM9_ArZ",
        "colab": {
          "base_uri": "https://localhost:8080/",
          "height": 207
        },
        "outputId": "0bfa8ac5-9120-497d-fe69-d90b37b1caf0"
      },
      "outputs": [
        {
          "output_type": "error",
          "ename": "AttributeError",
          "evalue": "ignored",
          "traceback": [
            "\u001b[0;31m---------------------------------------------------------------------------\u001b[0m",
            "\u001b[0;31mAttributeError\u001b[0m                            Traceback (most recent call last)",
            "\u001b[0;32m<ipython-input-16-ba7a09ba4ea5>\u001b[0m in \u001b[0;36m<module>\u001b[0;34m\u001b[0m\n\u001b[1;32m      1\u001b[0m \u001b[0mmlp\u001b[0m \u001b[0;34m=\u001b[0m \u001b[0mMLP\u001b[0m\u001b[0;34m(\u001b[0m\u001b[0mneurons\u001b[0m\u001b[0;34m=\u001b[0m\u001b[0;34m[\u001b[0m\u001b[0;36m10\u001b[0m\u001b[0;34m,\u001b[0m\u001b[0;36m1\u001b[0m\u001b[0;34m]\u001b[0m\u001b[0;34m,\u001b[0m \u001b[0mactivations\u001b[0m\u001b[0;34m=\u001b[0m\u001b[0;34m[\u001b[0m\u001b[0;34m\"tanh\"\u001b[0m\u001b[0;34m,\u001b[0m\u001b[0;34m\"sigmoid\"\u001b[0m\u001b[0;34m]\u001b[0m\u001b[0;34m,\u001b[0m \u001b[0mreg\u001b[0m\u001b[0;34m=\u001b[0m\u001b[0;36m0.0\u001b[0m\u001b[0;34m)\u001b[0m\u001b[0;34m\u001b[0m\u001b[0;34m\u001b[0m\u001b[0m\n\u001b[0;32m----> 2\u001b[0;31m mlp.compile(optimizer=tf.keras.optimizers.Adam(learning_rate=0.1), loss=mlp.loss,\n\u001b[0m\u001b[1;32m      3\u001b[0m            metrics=[tf.keras.metrics.mae, tf.keras.metrics.binary_accuracy])\n",
            "\u001b[0;31mAttributeError\u001b[0m: 'MLP_class' object has no attribute 'loss'"
          ]
        }
      ],
      "source": [
        "mlp = MLP(neurons=[10,1], activations=[\"tanh\",\"sigmoid\"], reg=0.0)\n",
        "mlp.compile(optimizer=tf.keras.optimizers.Adam(learning_rate=0.1), loss=mlp.loss,\n",
        "           metrics=[tf.keras.metrics.mae, tf.keras.metrics.binary_accuracy])"
      ]
    },
    {
      "cell_type": "code",
      "execution_count": null,
      "metadata": {
        "id": "kDyoD0vf_ArZ"
      },
      "outputs": [],
      "source": [
        "!rm -rf logs\n",
        "tensorboard_callback = tf.keras.callbacks.TensorBoard(log_dir=\"logs/no_regularization\")\n",
        "mlp.fit(X,y, epochs=400, batch_size=16, verbose=0,\n",
        "        callbacks=[tensorboard_callback])"
      ]
    },
    {
      "cell_type": "markdown",
      "metadata": {
        "id": "CuOwFrdv_ArZ"
      },
      "source": [
        "observe the accuracy and classification frontier"
      ]
    },
    {
      "cell_type": "code",
      "execution_count": null,
      "metadata": {
        "id": "8aEqEaqI_ArZ"
      },
      "outputs": [],
      "source": [
        "predict = lambda X: (mlp.predict(X)[:,0]>0.5).astype(int)\n",
        "mlutils.plot_2Ddata_with_boundary(predict, X, y.reshape(-1));\n",
        "plt.title(\"accuracy %.2f\"%np.mean(predict(X)==y.reshape(-1)));"
      ]
    },
    {
      "cell_type": "markdown",
      "metadata": {
        "id": "uwPRAEQ6_ArZ"
      },
      "source": [
        "regularization must work!!!"
      ]
    },
    {
      "cell_type": "code",
      "execution_count": null,
      "metadata": {
        "id": "lX4mdO4g_Ara"
      },
      "outputs": [],
      "source": [
        "tensorboard_callback = tf.keras.callbacks.TensorBoard(log_dir=\"logs/with_regularization\")\n",
        "mlp = MLP(neurons=[10,1], activations=[\"tanh\",\"sigmoid\"], reg=0.005)\n",
        "\n",
        "mlp.compile(optimizer=tf.keras.optimizers.Adam(learning_rate=0.1), loss=mlp.loss,\n",
        "           metrics=[tf.keras.metrics.mae, tf.keras.metrics.binary_accuracy])\n",
        "\n",
        "mlp.fit(X,y, epochs=400, batch_size=10, verbose=0, callbacks=[tensorboard_callback])\n",
        "mlutils.plot_2Ddata_with_boundary(predict, X, y.reshape(-1))\n",
        "plt.title(\"accuracy %.2f\"%np.mean(predict(X)==y.reshape(-1)));"
      ]
    },
    {
      "cell_type": "markdown",
      "metadata": {
        "id": "2iWwx5TM_Ara"
      },
      "source": [
        "and inspect tensorboard"
      ]
    },
    {
      "cell_type": "code",
      "execution_count": null,
      "metadata": {
        "id": "Vu0Z-FoL_Ara"
      },
      "outputs": [],
      "source": [
        "%load_ext tensorboard\n",
        "%tensorboard --logdir logs\n"
      ]
    },
    {
      "cell_type": "code",
      "execution_count": null,
      "metadata": {
        "id": "5inOfB_i_Ara"
      },
      "outputs": [],
      "source": []
    }
  ],
  "metadata": {
    "kernelspec": {
      "display_name": "p38",
      "language": "python",
      "name": "p38"
    },
    "language_info": {
      "codemirror_mode": {
        "name": "ipython",
        "version": 3
      },
      "file_extension": ".py",
      "mimetype": "text/x-python",
      "name": "python",
      "nbconvert_exporter": "python",
      "pygments_lexer": "ipython3",
      "version": "3.8.5"
    },
    "colab": {
      "provenance": []
    },
    "widgets": {
      "application/vnd.jupyter.widget-state+json": {
        "cf39699a8d0f4bae8da9e7efcad995c4": {
          "model_module": "@jupyter-widgets/controls",
          "model_name": "HBoxModel",
          "model_module_version": "1.5.0",
          "state": {
            "_dom_classes": [],
            "_model_module": "@jupyter-widgets/controls",
            "_model_module_version": "1.5.0",
            "_model_name": "HBoxModel",
            "_view_count": null,
            "_view_module": "@jupyter-widgets/controls",
            "_view_module_version": "1.5.0",
            "_view_name": "HBoxView",
            "box_style": "",
            "children": [
              "IPY_MODEL_d3b4c86dacb84887a8205d8009612ce3",
              "IPY_MODEL_58b51f3dada14c6a983dced3eed2b6c6",
              "IPY_MODEL_cbc30b8874f9442eb7f84e93402c1d07",
              "IPY_MODEL_28b21f4156ce4cd588d53e8e0f56c576"
            ],
            "layout": "IPY_MODEL_7edd6a8370044b9c86827a5e95de851b"
          }
        },
        "d3b4c86dacb84887a8205d8009612ce3": {
          "model_module": "@jupyter-widgets/controls",
          "model_name": "VBoxModel",
          "model_module_version": "1.5.0",
          "state": {
            "_dom_classes": [],
            "_model_module": "@jupyter-widgets/controls",
            "_model_module_version": "1.5.0",
            "_model_name": "VBoxModel",
            "_view_count": null,
            "_view_module": "@jupyter-widgets/controls",
            "_view_module_version": "1.5.0",
            "_view_name": "VBoxView",
            "box_style": "",
            "children": [
              "IPY_MODEL_43bf7eabb63f48eea3f1f6f904a3bc7c",
              "IPY_MODEL_7741d1c7464642829889c8909e4adedb"
            ],
            "layout": "IPY_MODEL_590d3af231654c60a530dd583d983f91"
          }
        },
        "58b51f3dada14c6a983dced3eed2b6c6": {
          "model_module": "@jupyter-widgets/controls",
          "model_name": "ButtonModel",
          "model_module_version": "1.5.0",
          "state": {
            "_dom_classes": [
              "login_button"
            ],
            "_model_module": "@jupyter-widgets/controls",
            "_model_module_version": "1.5.0",
            "_model_name": "ButtonModel",
            "_view_count": null,
            "_view_module": "@jupyter-widgets/controls",
            "_view_module_version": "1.5.0",
            "_view_name": "ButtonView",
            "button_style": "",
            "description": "Login with email",
            "disabled": false,
            "icon": "",
            "layout": "IPY_MODEL_da68b1e4dd494128a3f72191afb450b6",
            "style": "IPY_MODEL_9877f0726ffc497ab9ddd79f17048036",
            "tooltip": ""
          }
        },
        "cbc30b8874f9442eb7f84e93402c1d07": {
          "model_module": "@jupyter-widgets/controls",
          "model_name": "HTMLModel",
          "model_module_version": "1.5.0",
          "state": {
            "_dom_classes": [],
            "_model_module": "@jupyter-widgets/controls",
            "_model_module_version": "1.5.0",
            "_model_name": "HTMLModel",
            "_view_count": null,
            "_view_module": "@jupyter-widgets/controls",
            "_view_module_version": "1.5.0",
            "_view_name": "HTMLView",
            "description": "",
            "description_tooltip": null,
            "layout": "IPY_MODEL_03ec0018469d4433a18f6cf599580f48",
            "placeholder": "​",
            "style": "IPY_MODEL_89d0636f03c140e195efe85aa2ab5062",
            "value": "<center><big>or</big></center>"
          }
        },
        "28b21f4156ce4cd588d53e8e0f56c576": {
          "model_module": "@jupyter-widgets/controls",
          "model_name": "ButtonModel",
          "model_module_version": "1.5.0",
          "state": {
            "_dom_classes": [
              "google_button"
            ],
            "_model_module": "@jupyter-widgets/controls",
            "_model_module_version": "1.5.0",
            "_model_name": "ButtonModel",
            "_view_count": null,
            "_view_module": "@jupyter-widgets/controls",
            "_view_module_version": "1.5.0",
            "_view_name": "ButtonView",
            "button_style": "",
            "description": "Login with Google",
            "disabled": false,
            "icon": "",
            "layout": "IPY_MODEL_434cffd9341f4c5f8ff55624f4275d02",
            "style": "IPY_MODEL_81980ae3eeb94ce28ab198d8ec936f21",
            "tooltip": ""
          }
        },
        "7edd6a8370044b9c86827a5e95de851b": {
          "model_module": "@jupyter-widgets/base",
          "model_name": "LayoutModel",
          "model_module_version": "1.2.0",
          "state": {
            "_model_module": "@jupyter-widgets/base",
            "_model_module_version": "1.2.0",
            "_model_name": "LayoutModel",
            "_view_count": null,
            "_view_module": "@jupyter-widgets/base",
            "_view_module_version": "1.2.0",
            "_view_name": "LayoutView",
            "align_content": null,
            "align_items": null,
            "align_self": null,
            "border": null,
            "bottom": null,
            "display": null,
            "flex": null,
            "flex_flow": null,
            "grid_area": null,
            "grid_auto_columns": null,
            "grid_auto_flow": null,
            "grid_auto_rows": null,
            "grid_column": null,
            "grid_gap": null,
            "grid_row": null,
            "grid_template_areas": null,
            "grid_template_columns": null,
            "grid_template_rows": null,
            "height": null,
            "justify_content": null,
            "justify_items": null,
            "left": null,
            "margin": null,
            "max_height": null,
            "max_width": null,
            "min_height": null,
            "min_width": null,
            "object_fit": null,
            "object_position": null,
            "order": null,
            "overflow": null,
            "overflow_x": null,
            "overflow_y": null,
            "padding": null,
            "right": null,
            "top": null,
            "visibility": null,
            "width": null
          }
        },
        "43bf7eabb63f48eea3f1f6f904a3bc7c": {
          "model_module": "@jupyter-widgets/controls",
          "model_name": "TextModel",
          "model_module_version": "1.5.0",
          "state": {
            "_dom_classes": [],
            "_model_module": "@jupyter-widgets/controls",
            "_model_module_version": "1.5.0",
            "_model_name": "TextModel",
            "_view_count": null,
            "_view_module": "@jupyter-widgets/controls",
            "_view_module_version": "1.5.0",
            "_view_name": "TextView",
            "continuous_update": true,
            "description": "email",
            "description_tooltip": null,
            "disabled": false,
            "layout": "IPY_MODEL_d04f9f4cfdf5488991d65e4a67181caf",
            "placeholder": "​",
            "style": "IPY_MODEL_6893073fc57f4bc4814652045cd4b6e5",
            "value": ""
          }
        },
        "7741d1c7464642829889c8909e4adedb": {
          "model_module": "@jupyter-widgets/controls",
          "model_name": "PasswordModel",
          "model_module_version": "1.5.0",
          "state": {
            "_dom_classes": [],
            "_model_module": "@jupyter-widgets/controls",
            "_model_module_version": "1.5.0",
            "_model_name": "PasswordModel",
            "_view_count": null,
            "_view_module": "@jupyter-widgets/controls",
            "_view_module_version": "1.5.0",
            "_view_name": "PasswordView",
            "continuous_update": true,
            "description": "password",
            "description_tooltip": null,
            "disabled": false,
            "layout": "IPY_MODEL_6e487b322b784dc489d4c123395c024e",
            "placeholder": "​",
            "style": "IPY_MODEL_65db6f10d6b340a58421c46223cdab1b",
            "value": ""
          }
        },
        "590d3af231654c60a530dd583d983f91": {
          "model_module": "@jupyter-widgets/base",
          "model_name": "LayoutModel",
          "model_module_version": "1.2.0",
          "state": {
            "_model_module": "@jupyter-widgets/base",
            "_model_module_version": "1.2.0",
            "_model_name": "LayoutModel",
            "_view_count": null,
            "_view_module": "@jupyter-widgets/base",
            "_view_module_version": "1.2.0",
            "_view_name": "LayoutView",
            "align_content": null,
            "align_items": null,
            "align_self": null,
            "border": null,
            "bottom": null,
            "display": null,
            "flex": null,
            "flex_flow": null,
            "grid_area": null,
            "grid_auto_columns": null,
            "grid_auto_flow": null,
            "grid_auto_rows": null,
            "grid_column": null,
            "grid_gap": null,
            "grid_row": null,
            "grid_template_areas": null,
            "grid_template_columns": null,
            "grid_template_rows": null,
            "height": null,
            "justify_content": null,
            "justify_items": null,
            "left": null,
            "margin": null,
            "max_height": null,
            "max_width": null,
            "min_height": null,
            "min_width": null,
            "object_fit": null,
            "object_position": null,
            "order": null,
            "overflow": null,
            "overflow_x": null,
            "overflow_y": null,
            "padding": null,
            "right": null,
            "top": null,
            "visibility": null,
            "width": null
          }
        },
        "da68b1e4dd494128a3f72191afb450b6": {
          "model_module": "@jupyter-widgets/base",
          "model_name": "LayoutModel",
          "model_module_version": "1.2.0",
          "state": {
            "_model_module": "@jupyter-widgets/base",
            "_model_module_version": "1.2.0",
            "_model_name": "LayoutModel",
            "_view_count": null,
            "_view_module": "@jupyter-widgets/base",
            "_view_module_version": "1.2.0",
            "_view_name": "LayoutView",
            "align_content": null,
            "align_items": null,
            "align_self": null,
            "border": null,
            "bottom": null,
            "display": null,
            "flex": null,
            "flex_flow": null,
            "grid_area": null,
            "grid_auto_columns": null,
            "grid_auto_flow": null,
            "grid_auto_rows": null,
            "grid_column": null,
            "grid_gap": null,
            "grid_row": null,
            "grid_template_areas": null,
            "grid_template_columns": null,
            "grid_template_rows": null,
            "height": "53px",
            "justify_content": null,
            "justify_items": null,
            "left": null,
            "margin": null,
            "max_height": null,
            "max_width": null,
            "min_height": null,
            "min_width": null,
            "object_fit": null,
            "object_position": null,
            "order": null,
            "overflow": null,
            "overflow_x": null,
            "overflow_y": null,
            "padding": null,
            "right": null,
            "top": null,
            "visibility": null,
            "width": "150px"
          }
        },
        "9877f0726ffc497ab9ddd79f17048036": {
          "model_module": "@jupyter-widgets/controls",
          "model_name": "ButtonStyleModel",
          "model_module_version": "1.5.0",
          "state": {
            "_model_module": "@jupyter-widgets/controls",
            "_model_module_version": "1.5.0",
            "_model_name": "ButtonStyleModel",
            "_view_count": null,
            "_view_module": "@jupyter-widgets/base",
            "_view_module_version": "1.2.0",
            "_view_name": "StyleView",
            "button_color": null,
            "font_weight": ""
          }
        },
        "03ec0018469d4433a18f6cf599580f48": {
          "model_module": "@jupyter-widgets/base",
          "model_name": "LayoutModel",
          "model_module_version": "1.2.0",
          "state": {
            "_model_module": "@jupyter-widgets/base",
            "_model_module_version": "1.2.0",
            "_model_name": "LayoutModel",
            "_view_count": null,
            "_view_module": "@jupyter-widgets/base",
            "_view_module_version": "1.2.0",
            "_view_name": "LayoutView",
            "align_content": null,
            "align_items": null,
            "align_self": null,
            "border": null,
            "bottom": null,
            "display": null,
            "flex": null,
            "flex_flow": null,
            "grid_area": null,
            "grid_auto_columns": null,
            "grid_auto_flow": null,
            "grid_auto_rows": null,
            "grid_column": null,
            "grid_gap": null,
            "grid_row": null,
            "grid_template_areas": null,
            "grid_template_columns": null,
            "grid_template_rows": null,
            "height": null,
            "justify_content": null,
            "justify_items": null,
            "left": null,
            "margin": null,
            "max_height": null,
            "max_width": null,
            "min_height": null,
            "min_width": null,
            "object_fit": null,
            "object_position": null,
            "order": null,
            "overflow": null,
            "overflow_x": null,
            "overflow_y": null,
            "padding": null,
            "right": null,
            "top": null,
            "visibility": null,
            "width": "100px"
          }
        },
        "89d0636f03c140e195efe85aa2ab5062": {
          "model_module": "@jupyter-widgets/controls",
          "model_name": "DescriptionStyleModel",
          "model_module_version": "1.5.0",
          "state": {
            "_model_module": "@jupyter-widgets/controls",
            "_model_module_version": "1.5.0",
            "_model_name": "DescriptionStyleModel",
            "_view_count": null,
            "_view_module": "@jupyter-widgets/base",
            "_view_module_version": "1.2.0",
            "_view_name": "StyleView",
            "description_width": ""
          }
        },
        "434cffd9341f4c5f8ff55624f4275d02": {
          "model_module": "@jupyter-widgets/base",
          "model_name": "LayoutModel",
          "model_module_version": "1.2.0",
          "state": {
            "_model_module": "@jupyter-widgets/base",
            "_model_module_version": "1.2.0",
            "_model_name": "LayoutModel",
            "_view_count": null,
            "_view_module": "@jupyter-widgets/base",
            "_view_module_version": "1.2.0",
            "_view_name": "LayoutView",
            "align_content": null,
            "align_items": null,
            "align_self": null,
            "border": null,
            "bottom": null,
            "display": null,
            "flex": null,
            "flex_flow": null,
            "grid_area": null,
            "grid_auto_columns": null,
            "grid_auto_flow": null,
            "grid_auto_rows": null,
            "grid_column": null,
            "grid_gap": null,
            "grid_row": null,
            "grid_template_areas": null,
            "grid_template_columns": null,
            "grid_template_rows": null,
            "height": "53px",
            "justify_content": null,
            "justify_items": null,
            "left": null,
            "margin": null,
            "max_height": null,
            "max_width": null,
            "min_height": null,
            "min_width": null,
            "object_fit": null,
            "object_position": null,
            "order": null,
            "overflow": null,
            "overflow_x": null,
            "overflow_y": null,
            "padding": null,
            "right": null,
            "top": null,
            "visibility": null,
            "width": "200px"
          }
        },
        "81980ae3eeb94ce28ab198d8ec936f21": {
          "model_module": "@jupyter-widgets/controls",
          "model_name": "ButtonStyleModel",
          "model_module_version": "1.5.0",
          "state": {
            "_model_module": "@jupyter-widgets/controls",
            "_model_module_version": "1.5.0",
            "_model_name": "ButtonStyleModel",
            "_view_count": null,
            "_view_module": "@jupyter-widgets/base",
            "_view_module_version": "1.2.0",
            "_view_name": "StyleView",
            "button_color": null,
            "font_weight": ""
          }
        },
        "d04f9f4cfdf5488991d65e4a67181caf": {
          "model_module": "@jupyter-widgets/base",
          "model_name": "LayoutModel",
          "model_module_version": "1.2.0",
          "state": {
            "_model_module": "@jupyter-widgets/base",
            "_model_module_version": "1.2.0",
            "_model_name": "LayoutModel",
            "_view_count": null,
            "_view_module": "@jupyter-widgets/base",
            "_view_module_version": "1.2.0",
            "_view_name": "LayoutView",
            "align_content": null,
            "align_items": null,
            "align_self": null,
            "border": null,
            "bottom": null,
            "display": null,
            "flex": null,
            "flex_flow": null,
            "grid_area": null,
            "grid_auto_columns": null,
            "grid_auto_flow": null,
            "grid_auto_rows": null,
            "grid_column": null,
            "grid_gap": null,
            "grid_row": null,
            "grid_template_areas": null,
            "grid_template_columns": null,
            "grid_template_rows": null,
            "height": "25px",
            "justify_content": null,
            "justify_items": null,
            "left": null,
            "margin": null,
            "max_height": null,
            "max_width": null,
            "min_height": null,
            "min_width": null,
            "object_fit": null,
            "object_position": null,
            "order": null,
            "overflow": null,
            "overflow_x": null,
            "overflow_y": null,
            "padding": null,
            "right": null,
            "top": null,
            "visibility": null,
            "width": "300px"
          }
        },
        "6893073fc57f4bc4814652045cd4b6e5": {
          "model_module": "@jupyter-widgets/controls",
          "model_name": "DescriptionStyleModel",
          "model_module_version": "1.5.0",
          "state": {
            "_model_module": "@jupyter-widgets/controls",
            "_model_module_version": "1.5.0",
            "_model_name": "DescriptionStyleModel",
            "_view_count": null,
            "_view_module": "@jupyter-widgets/base",
            "_view_module_version": "1.2.0",
            "_view_name": "StyleView",
            "description_width": ""
          }
        },
        "6e487b322b784dc489d4c123395c024e": {
          "model_module": "@jupyter-widgets/base",
          "model_name": "LayoutModel",
          "model_module_version": "1.2.0",
          "state": {
            "_model_module": "@jupyter-widgets/base",
            "_model_module_version": "1.2.0",
            "_model_name": "LayoutModel",
            "_view_count": null,
            "_view_module": "@jupyter-widgets/base",
            "_view_module_version": "1.2.0",
            "_view_name": "LayoutView",
            "align_content": null,
            "align_items": null,
            "align_self": null,
            "border": null,
            "bottom": null,
            "display": null,
            "flex": null,
            "flex_flow": null,
            "grid_area": null,
            "grid_auto_columns": null,
            "grid_auto_flow": null,
            "grid_auto_rows": null,
            "grid_column": null,
            "grid_gap": null,
            "grid_row": null,
            "grid_template_areas": null,
            "grid_template_columns": null,
            "grid_template_rows": null,
            "height": "24px",
            "justify_content": null,
            "justify_items": null,
            "left": null,
            "margin": null,
            "max_height": null,
            "max_width": null,
            "min_height": null,
            "min_width": null,
            "object_fit": null,
            "object_position": null,
            "order": null,
            "overflow": null,
            "overflow_x": null,
            "overflow_y": null,
            "padding": null,
            "right": null,
            "top": null,
            "visibility": null,
            "width": "300px"
          }
        },
        "65db6f10d6b340a58421c46223cdab1b": {
          "model_module": "@jupyter-widgets/controls",
          "model_name": "DescriptionStyleModel",
          "model_module_version": "1.5.0",
          "state": {
            "_model_module": "@jupyter-widgets/controls",
            "_model_module_version": "1.5.0",
            "_model_name": "DescriptionStyleModel",
            "_view_count": null,
            "_view_module": "@jupyter-widgets/base",
            "_view_module_version": "1.2.0",
            "_view_name": "StyleView",
            "description_width": ""
          }
        }
      }
    }
  },
  "nbformat": 4,
  "nbformat_minor": 0
}