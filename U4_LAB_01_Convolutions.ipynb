{
  "cells": [
    {
      "cell_type": "markdown",
      "metadata": {
        "id": "rn9_AVerjMOx"
      },
      "source": [
        "# LAB 4.1 - Convolutions"
      ]
    },
    {
      "cell_type": "code",
      "source": [],
      "metadata": {
        "id": "V7VoS8k3FzSw"
      },
      "execution_count": null,
      "outputs": []
    },
    {
      "cell_type": "code",
      "execution_count": null,
      "metadata": {
        "id": "WKSSzjWYjMO2",
        "colab": {
          "base_uri": "https://localhost:8080/",
          "height": 35
        },
        "outputId": "f1de0474-3514-4eea-ba5c-c739a929faf8"
      },
      "outputs": [
        {
          "output_type": "display_data",
          "data": {
            "text/plain": [
              "<IPython.core.display.HTML object>"
            ],
            "text/html": [
              "\n",
              "<meta name=\"google-signin-client_id\"\n",
              "      content=\"461673936472-kdjosv61up3ac1ajeuq6qqu72upilmls.apps.googleusercontent.com\"/>\n",
              "<script src=\"https://apis.google.com/js/client:platform.js?onload=google_button_start\"></script>\n",
              "    "
            ]
          },
          "metadata": {}
        },
        {
          "output_type": "stream",
          "name": "stdout",
          "text": [
            "replicating local resources\n"
          ]
        }
      ],
      "source": [
        "!wget -nc --no-cache -O init.py -q https://raw.githubusercontent.com/rramosp/2021.deeplearning/main/content/init.py\n",
        "import init; init.init(force_download=False);"
      ]
    },
    {
      "cell_type": "code",
      "execution_count": null,
      "metadata": {
        "scrolled": true,
        "id": "njbSvweBjMO3",
        "colab": {
          "base_uri": "https://localhost:8080/",
          "height": 138,
          "referenced_widgets": [
            "195385dd0095403da4e1f9d97c192563",
            "8532bedfbbf7472b9119b0d825d0a06d",
            "897e63abc4844f8d992053910a35fc89",
            "455c42d8cafe422699def14dbc5eb6fa",
            "551c9ffeaf6741ada5eadf79661ffa52",
            "f387002008d44a8db7629eadf56fd5cd",
            "174f34c4a64d4e8abacc57474dd7bcdd",
            "c5ce314f7485464091beced8c0385801",
            "076b6dac640d4c04bd81a4deb00abaf8",
            "7dcc83cdb592464b976f4cc79635fd8e",
            "efba4126264a4b0ea889f6a697d5dd2d",
            "efa97fab53b0466d880f5ede2680b547",
            "499cf49aa5b442c7acd0b1f660f63893",
            "0d06845bc727453cb05af853243add71",
            "cebdd413b64e45d382464d3a2ce0d227",
            "02a96704b37a44f0a203f2cb82a4d7a0",
            "d0410fe906ee4aec893198d565ca3fac",
            "99585e75fc984d2ba2ebfbaa98604d5e",
            "d18b03401d41432b93f6a54dc6bb203c"
          ]
        },
        "outputId": "6efa6d16-5035-46d3-995a-b99137735f7a"
      },
      "outputs": [
        {
          "output_type": "stream",
          "name": "stdout",
          "text": [
            "logging in as nlninosi@unal.edu.co... please wait\n",
            "using course session deeplearning.unal::intro_si_2022_2\n",
            "success!! you are logged in\n"
          ]
        }
      ],
      "source": [
        "from local.lib.rlxmoocapi import submit, session\n",
        "session.LoginSequence(endpoint=init.endpoint, course_id=init.course_id, lab_id=\"L04.01\", varname=\"student\");"
      ]
    },
    {
      "cell_type": "code",
      "execution_count": null,
      "metadata": {
        "id": "0ucSLfRFjMO3",
        "colab": {
          "base_uri": "https://localhost:8080/",
          "height": 36
        },
        "outputId": "142ac9c1-2ccf-41bf-809d-42413a08455f"
      },
      "outputs": [
        {
          "output_type": "execute_result",
          "data": {
            "text/plain": [
              "'2.9.2'"
            ],
            "application/vnd.google.colaboratory.intrinsic+json": {
              "type": "string"
            }
          },
          "metadata": {},
          "execution_count": 3
        }
      ],
      "source": [
        "import numpy as np\n",
        "import os\n",
        "import tensorflow as tf\n",
        "import matplotlib.pyplot as plt\n",
        "%matplotlib inline\n",
        "tf.__version__"
      ]
    },
    {
      "cell_type": "markdown",
      "metadata": {
        "id": "NQY23tPujMO3"
      },
      "source": [
        "## TASK 1: Implement convolutions\n",
        "\n",
        "Complete the following function so that it implements a convolution in a set of `for` loops. **YOU CANNOT USE TENSORFLOW**\n",
        "\n",
        "The parameters of the function are as follow:\n",
        "\n",
        "- `img`: the images, an array of size [1,y,x,k], where:\n",
        "    - `1`: you will be receiving only one image\n",
        "    - `x`, `y`: the size of the image\n",
        "    - `k` : the number of channels\n",
        "    \n",
        "- `f`: the filters, an array of size [fy,fx,k,n], where:\n",
        "    - `fx`, `fy`: the size of the filters\n",
        "    - `k` : the number of channels (**must be the same as in images**)\n",
        "    - `n`: the number of filters\n",
        "- `activation`: the activation function to use (such as `sigmoid` or `linear` as shown below)\n",
        "\n",
        "\n",
        "the resulting activation map must be of shape `[1, x-fx+1, y-fy+1, n]` which is equivalent to a `Conv2D`  Keras layer with `padding='VALID'`"
      ]
    },
    {
      "cell_type": "code",
      "execution_count": null,
      "metadata": {
        "id": "lHjRKMYNjMO4"
      },
      "outputs": [],
      "source": [
        "sigmoid = lambda x: 1/(1+np.exp(-x))\n",
        "linear  = lambda x: x\n",
        "\n",
        "def convolution_byhand(img, f, activation=sigmoid):\n",
        "    assert f.shape[2]==img.shape[3]\n",
        "    fy = f.shape[0]\n",
        "    fx = f.shape[1]\n",
        "    r = np.zeros( (1, img.shape[1]-fy+1, img.shape[2]-fx+1, f.shape[3] ))\n",
        "    #r = np.zeros( (1, img.shape[2]-fx+1, img.shape[1]-fy+1, f.shape[3] ))\n",
        "    canales = img.shape[3]\n",
        "    total = 0\n",
        "    #print('n: ',f.shape[3])\n",
        "    #print('img: ',img[:,0,0,:])\n",
        "    #print('f: ',f[0,0,:,0])#el ultimo valor son los canales\n",
        "    #print('a: ',img[0])\n",
        "    for filter_nb in range(f.shape[3]):\n",
        "        for y in range(r.shape[1]):\n",
        "            for x in range(r.shape[2]):\n",
        "              for k in range(canales):\n",
        "                #total += sigmoid((img[:,y:y+fy,x:x+fx,k] * f[0:fy,0:fx,k,filter_nb]).sum())\n",
        "                total += np.multiply(img[:,y:y+fy,x:x+fx,k], f[:,:,k,filter_nb]).sum()\n",
        "                #print('total: ',total)\n",
        "              r[0,y,x,filter_nb] = sigmoid(total) #np.sum(np.multiply(img[:,y,x,:],f[y,x,:,filter_nb])) #(img[:,y,x,:]*f[y,x,:,filter_nb])\n",
        "              total = 0\n",
        "\n",
        "    return r"
      ]
    },
    {
      "cell_type": "markdown",
      "metadata": {
        "id": "VG9qtCn4jMO4"
      },
      "source": [
        "with the following 5x5x1 image and 2 filters of size 3x3x1 you should get this result\n",
        "\n",
        "        >> convolution_byhand(img, f, activation=sigmoid)\n",
        "        array([[[[0.7109495 , 0.37754067],\n",
        "                 [0.40131234, 0.35434369],\n",
        "                 [0.40131234, 0.40131234]],\n",
        "\n",
        "                [[0.450166  , 0.5       ],\n",
        "                 [0.59868766, 0.40131234],\n",
        "                 [0.2890505 , 0.42555748]],\n",
        "\n",
        "                [[0.19781611, 0.64565631],\n",
        "                 [0.81757448, 0.75026011],\n",
        "                 [0.2890505 , 0.66818777]]]])"
      ]
    },
    {
      "cell_type": "code",
      "execution_count": null,
      "metadata": {
        "id": "fn6V6mUXjMO4",
        "colab": {
          "base_uri": "https://localhost:8080/"
        },
        "outputId": "19c5d762-1989-465d-b425-2f2104e14dbe"
      },
      "outputs": [
        {
          "output_type": "execute_result",
          "data": {
            "text/plain": [
              "array([[[[0.7109495 , 0.37754067],\n",
              "         [0.40131234, 0.35434369],\n",
              "         [0.40131234, 0.40131234]],\n",
              "\n",
              "        [[0.450166  , 0.5       ],\n",
              "         [0.59868766, 0.40131234],\n",
              "         [0.2890505 , 0.42555748]],\n",
              "\n",
              "        [[0.19781611, 0.64565631],\n",
              "         [0.81757448, 0.75026011],\n",
              "         [0.2890505 , 0.66818777]]]])"
            ]
          },
          "metadata": {},
          "execution_count": 6
        }
      ],
      "source": [
        "img = np.r_[[[0, 8, 5, 9, 7],\n",
        "             [0, 6, 4, 6, 9],\n",
        "             [6, 3, 8, 4, 5],\n",
        "             [8, 7, 7, 4, 5],\n",
        "             [7, 2, 5, 0, 2]]].reshape((1,5,5,1))/10 - 0.5\n",
        "f = np.r_[[-1., -1.,  1., -1., -1., -1., -1.,  1.,  1.],\n",
        "          [ 1., -1.,  1., -1., -1.,  1., -1., -1., -1.]].reshape(3,3,1,2)\n",
        "\n",
        "convolution_byhand(img, f, activation=sigmoid)"
      ]
    },
    {
      "cell_type": "markdown",
      "metadata": {
        "id": "VjKhR9L4jMO5"
      },
      "source": [
        "which should yield the same result as simply applying a keras `Conv2D` layer"
      ]
    },
    {
      "cell_type": "code",
      "execution_count": null,
      "metadata": {
        "id": "4g9Wk4BOjMO5",
        "colab": {
          "base_uri": "https://localhost:8080/"
        },
        "outputId": "c3da5135-6eb6-43e5-f0df-2ac47bbbb9b9"
      },
      "outputs": [
        {
          "output_type": "execute_result",
          "data": {
            "text/plain": [
              "array([[[[0.7109495 , 0.37754067],\n",
              "         [0.40131234, 0.35434369],\n",
              "         [0.40131234, 0.40131234]],\n",
              "\n",
              "        [[0.450166  , 0.5       ],\n",
              "         [0.59868766, 0.40131234],\n",
              "         [0.2890505 , 0.42555748]],\n",
              "\n",
              "        [[0.19781611, 0.64565631],\n",
              "         [0.81757448, 0.75026011],\n",
              "         [0.2890505 , 0.66818777]]]])"
            ]
          },
          "metadata": {},
          "execution_count": 7
        }
      ],
      "source": [
        "c = tf.keras.layers.Conv2D(filters=f.shape[-1], kernel_size=f.shape[:2], activation=\"sigmoid\", padding='VALID', dtype=tf.float64)\n",
        "c.build(input_shape=(1,7,7,f.shape[2]))   # any shape would do here, just initializing weights\n",
        "c.set_weights([f, np.zeros(2)])\n",
        "c(img).numpy()"
      ]
    },
    {
      "cell_type": "markdown",
      "metadata": {
        "id": "vPEv1THYjMO5"
      },
      "source": [
        "you can also check the effect of the filters in a sample image"
      ]
    },
    {
      "cell_type": "code",
      "execution_count": null,
      "metadata": {
        "id": "In8aqBwrjMO6",
        "outputId": "4abae68b-a374-44c4-b078-f4da4bdcc8b1",
        "colab": {
          "base_uri": "https://localhost:8080/",
          "height": 373
        }
      },
      "outputs": [
        {
          "output_type": "display_data",
          "data": {
            "text/plain": [
              "<Figure size 720x432 with 5 Axes>"
            ],
            "image/png": "[encoded data removed]"
          },
          "metadata": {
            "needs_background": "light"
          }
        }
      ],
      "source": [
        "\n",
        "from skimage import io\n",
        "img = io.imread(\"local/imgs/sample_img.png\")\n",
        "img = img.reshape(1,*img.shape, 1)\n",
        "img = (img-np.min(img))/(np.max(img)-np.min(img))\n",
        "\n",
        "a1 = convolution_byhand(img, f)\n",
        "a2 = c(img).numpy()\n",
        "\n",
        "plt.figure(figsize=(10,6))\n",
        "plt.subplot(231); plt.imshow(img[0,:,:,0], cmap=plt.cm.Greys_r); plt.axis(\"off\"); plt.title(\"original\")\n",
        "plt.subplot(232); plt.imshow(a1[0,:,:,0], cmap=plt.cm.Greys_r); plt.axis(\"off\"); plt.title(\"your conv filter 0\")\n",
        "plt.subplot(233); plt.imshow(a2[0,:,:,0], cmap=plt.cm.Greys_r); plt.axis(\"off\"); plt.title(\"keras conv2D filter 0\")\n",
        "plt.subplot(235); plt.imshow(a1[0,:,:,1], cmap=plt.cm.Greys_r); plt.axis(\"off\"); plt.title(\"your conv filter 1\")\n",
        "plt.subplot(236); plt.imshow(a2[0,:,:,1], cmap=plt.cm.Greys_r); plt.axis(\"off\"); plt.title(\"keras conv2D filter 1\");\n"
      ]
    },
    {
      "cell_type": "markdown",
      "metadata": {
        "id": "LV37hKlgjMO7"
      },
      "source": [
        "**Registra tu solución en linea**"
      ]
    },
    {
      "cell_type": "code",
      "execution_count": null,
      "metadata": {
        "scrolled": false,
        "id": "u59SUp2GjMO7",
        "colab": {
          "base_uri": "https://localhost:8080/",
          "height": 128
        },
        "outputId": "e270f602-a6ec-40a6-e2ac-166216c4cdeb"
      },
      "outputs": [
        {
          "output_type": "display_data",
          "data": {
            "text/plain": [
              "<IPython.core.display.HTML object>"
            ],
            "text/html": [
              "\n",
              "                    <b>T1 submitted.</b> <b><font color=\"blue\">your grade is 5</font></b> \n",
              "                    <p/><pre>----- grader message -------</pre>testing your code with 100 random calls<br/><b>correct</b><pre>----------------------------</pre>\n",
              "                    <p/><p/>\n",
              "                    <div style=\"font-size:10px\"><b>SUBMISSION CODE</b> iGkjImbk9GmkNeMHKQGcnohLE59cc6Nn0rau6ql5AyOqq9HN7K+EIvoiTTdrahNOXXbyMeb0osLZdoApFuHXxj9Xqh+GA67OXxZa9gYu1QNFoLDN+wMyuhXA9P46uyxy2siwr+aVb38eNhts7riUTmruPSXXPX4hpSRNtzJHMh4=</div>\n",
              "                    "
            ]
          },
          "metadata": {}
        }
      ],
      "source": [
        "student.submit_task(namespace=globals(), task_id='T1');"
      ]
    },
    {
      "cell_type": "code",
      "execution_count": null,
      "metadata": {
        "id": "0eb3kaFhjMO7"
      },
      "outputs": [],
      "source": []
    },
    {
      "cell_type": "code",
      "execution_count": null,
      "metadata": {
        "id": "bwuBuPpOjMO7"
      },
      "outputs": [],
      "source": []
    },
    {
      "cell_type": "code",
      "execution_count": null,
      "metadata": {
        "id": "_rF9rw58jMO7"
      },
      "outputs": [],
      "source": []
    },
    {
      "cell_type": "code",
      "execution_count": null,
      "metadata": {
        "id": "JEnRl1uGjMO7"
      },
      "outputs": [],
      "source": []
    },
    {
      "cell_type": "markdown",
      "metadata": {
        "id": "PHc2Lt5ojMO7"
      },
      "source": [
        "## TASK 2: Prepare image for one-shot convolution\n",
        "\n",
        "We will prepare images to do the convolution with one dot product operation for each filter and each image. This will use more memory but will increase performance, specially if we have many filters.\n",
        "\n",
        "For instance, assume we have the following 1x8x6x1 images (only one image, one channel) and 2x3x1x2 filters (one channel, two filters)"
      ]
    },
    {
      "cell_type": "code",
      "execution_count": null,
      "metadata": {
        "id": "joor6z7pjMO8",
        "colab": {
          "base_uri": "https://localhost:8080/"
        },
        "outputId": "e9bb18c4-8500-4e3b-ca19-cc1f9bd71f7a"
      },
      "outputs": [
        {
          "output_type": "stream",
          "name": "stdout",
          "text": [
            "images (1, 8, 6, 1)\n",
            "[[9 4 9 6 7 1]\n",
            " [2 2 8 0 8 6]\n",
            " [8 6 5 5 1 4]\n",
            " [3 4 4 4 3 6]\n",
            " [5 1 7 9 1 4]\n",
            " [0 3 1 4 3 5]\n",
            " [1 5 5 4 9 6]\n",
            " [3 2 8 9 0 6]]\n",
            "--\n",
            "filters (2, 3, 1, 2)\n",
            "[[6 8 2]\n",
            " [6 9 9]]\n",
            "[[7 5 9]\n",
            " [4 7 7]]\n"
          ]
        }
      ],
      "source": [
        "img = np.r_[[9, 4, 9, 6, 7, 1, 2, 2, 8, 0, 8, 6, 8, 6, 5, 5, 1, 4, 3, 4, 4, 4,\n",
        "             3, 6, 5, 1, 7, 9, 1, 4, 0, 3, 1, 4, 3, 5, 1, 5, 5, 4, 9, 6, 3, 2,\n",
        "             8, 9, 0, 6]].reshape(1,8,6,1)\n",
        "f = np.r_[[6, 7, 8, 5, 2, 9, 6, 4, 9, 7, 9, 7]].reshape(2,3,1,2)\n",
        "print (\"images\", img.shape)\n",
        "print (img[0,:,:,0])\n",
        "print (\"--\")\n",
        "print (\"filters\", f.shape)\n",
        "print (f[:,:,0,0])\n",
        "print (f[:,:,0,1])"
      ]
    },
    {
      "cell_type": "markdown",
      "metadata": {
        "id": "LY8m9JJTjMO8"
      },
      "source": [
        "observe that if we repeat and rearrange `img` in the following way"
      ]
    },
    {
      "cell_type": "code",
      "execution_count": null,
      "metadata": {
        "id": "Myta7B4_jMO8"
      },
      "outputs": [],
      "source": [
        "pimg = np.array([[[[9., 4., 9., 2., 2., 8.],\n",
        "         [4., 9., 6., 2., 8., 0.],\n",
        "         [9., 6., 7., 8., 0., 8.],\n",
        "         [6., 7., 1., 0., 8., 6.]],\n",
        "\n",
        "        [[2., 2., 8., 8., 6., 5.],\n",
        "         [2., 8., 0., 6., 5., 5.],\n",
        "         [8., 0., 8., 5., 5., 1.],\n",
        "         [0., 8., 6., 5., 1., 4.]],\n",
        "\n",
        "        [[8., 6., 5., 3., 4., 4.],\n",
        "         [6., 5., 5., 4., 4., 4.],\n",
        "         [5., 5., 1., 4., 4., 3.],\n",
        "         [5., 1., 4., 4., 3., 6.]],\n",
        "\n",
        "        [[3., 4., 4., 5., 1., 7.],\n",
        "         [4., 4., 4., 1., 7., 9.],\n",
        "         [4., 4., 3., 7., 9., 1.],\n",
        "         [4., 3., 6., 9., 1., 4.]],\n",
        "\n",
        "        [[5., 1., 7., 0., 3., 1.],\n",
        "         [1., 7., 9., 3., 1., 4.],\n",
        "         [7., 9., 1., 1., 4., 3.],\n",
        "         [9., 1., 4., 4., 3., 5.]],\n",
        "\n",
        "        [[0., 3., 1., 1., 5., 5.],\n",
        "         [3., 1., 4., 5., 5., 4.],\n",
        "         [1., 4., 3., 5., 4., 9.],\n",
        "         [4., 3., 5., 4., 9., 6.]],\n",
        "\n",
        "        [[1., 5., 5., 3., 2., 8.],\n",
        "         [5., 5., 4., 2., 8., 9.],\n",
        "         [5., 4., 9., 8., 9., 0.],\n",
        "         [4., 9., 6., 9., 0., 6.]]]])\n"
      ]
    },
    {
      "cell_type": "markdown",
      "metadata": {
        "id": "fWo_DVE6jMO8"
      },
      "source": [
        "we only need one `dot` operation to obtain the convolution"
      ]
    },
    {
      "cell_type": "code",
      "execution_count": null,
      "metadata": {
        "id": "ABF-4T70jMO8",
        "outputId": "a6dad36b-7cbf-48f3-b107-4e200c0ae11c",
        "colab": {
          "base_uri": "https://localhost:8080/"
        }
      },
      "outputs": [
        {
          "output_type": "execute_result",
          "data": {
            "text/plain": [
              "array([[206., 192., 236., 220.],\n",
              "       [191., 202., 148., 151.],\n",
              "       [196., 182., 159., 151.],\n",
              "       [160., 214., 194., 159.],\n",
              "       [ 88., 143., 185., 166.],\n",
              "       [122., 145., 191., 217.],\n",
              "       [164., 243., 209., 216.]])"
            ]
          },
          "metadata": {},
          "execution_count": 12
        }
      ],
      "source": [
        "\n",
        "pimg[0].dot(f[:,:,:,0].flatten())\n"
      ]
    },
    {
      "cell_type": "markdown",
      "metadata": {
        "id": "MqOSbdtqjMO8"
      },
      "source": [
        "which we can compare with your previous function"
      ]
    },
    {
      "cell_type": "code",
      "execution_count": null,
      "metadata": {
        "id": "eKAXfTl2jMO9",
        "outputId": "3259e7fc-f093-4eb6-f9ad-0aa7ec9980d9",
        "colab": {
          "base_uri": "https://localhost:8080/"
        }
      },
      "outputs": [
        {
          "output_type": "execute_result",
          "data": {
            "text/plain": [
              "array([[1., 1., 1., 1.],\n",
              "       [1., 1., 1., 1.],\n",
              "       [1., 1., 1., 1.],\n",
              "       [1., 1., 1., 1.],\n",
              "       [1., 1., 1., 1.],\n",
              "       [1., 1., 1., 1.],\n",
              "       [1., 1., 1., 1.]])"
            ]
          },
          "metadata": {},
          "execution_count": 13
        }
      ],
      "source": [
        "\n",
        "convolution_byhand(img, f, activation=linear)[0,:,:,0]\n"
      ]
    },
    {
      "cell_type": "markdown",
      "metadata": {
        "id": "yATdJqT2jMO9"
      },
      "source": [
        "observe that:\n",
        "\n",
        "- resulting images in this example after convolution with any filter will have size 7x4\n",
        "- the resulting structure `pimg` has at each pixel (in the 7x4 grid) a vector of six elements associated with it.\n",
        "- this vector is the flattened contents of 2x3x1 image fragment located at that pixel that would by multiplied element by element by any filter located at that pixel during the convolution.\n",
        "- the first row in `pimg` corresponds to the flattened 2x3 fragment located at the top left corner of `img`\n",
        "- the second row contains the 2x3 fragment after shifting one pixel to the right.\n",
        "- we use the [`np.flatten`](https://docs.scipy.org/doc/numpy/reference/generated/numpy.ndarray.flatten.html) operation.\n",
        "\n",
        "\n",
        "**COMPLETE** the following function such that it prepares an image in this way, so that the convolution with a filter is just a `dot` operation. Where:\n",
        "\n",
        "- `img` is the images array (assume we only have one image)\n",
        "- `fy` and `fx` are the filter dimensions (2,3 in the example just above)\n"
      ]
    },
    {
      "cell_type": "code",
      "execution_count": null,
      "metadata": {
        "id": "X9jNLCe8jMO9"
      },
      "outputs": [],
      "source": [
        "def prepare_img(img, fy, fx):\n",
        "    r = np.zeros( (1, img.shape[1]-fy+1, img.shape[2]-fx+1, fy*fx*img.shape[3] ))\n",
        "    for y in range(img.shape[1]-fy+1):\n",
        "        for x in range(img.shape[2]-fx+1):\n",
        "            r[0,y,x,:] = img[:,y:y+fy,x:x+fx,:].flatten() # YOUR CODE HERE\n",
        "    return r"
      ]
    },
    {
      "cell_type": "markdown",
      "metadata": {
        "id": "2Aw97wOXjMO9"
      },
      "source": [
        "test your code manually"
      ]
    },
    {
      "cell_type": "code",
      "execution_count": null,
      "metadata": {
        "scrolled": false,
        "id": "W6wlHtT7jMO9",
        "colab": {
          "base_uri": "https://localhost:8080/"
        },
        "outputId": "0ad7c767-163a-4a6e-97e2-e58c1c7c7790"
      },
      "outputs": [
        {
          "output_type": "stream",
          "name": "stdout",
          "text": [
            "(1, 7, 4, 6)\n"
          ]
        },
        {
          "output_type": "execute_result",
          "data": {
            "text/plain": [
              "array([[[[9., 4., 9., 2., 2., 8.],\n",
              "         [4., 9., 6., 2., 8., 0.],\n",
              "         [9., 6., 7., 8., 0., 8.],\n",
              "         [6., 7., 1., 0., 8., 6.]],\n",
              "\n",
              "        [[2., 2., 8., 8., 6., 5.],\n",
              "         [2., 8., 0., 6., 5., 5.],\n",
              "         [8., 0., 8., 5., 5., 1.],\n",
              "         [0., 8., 6., 5., 1., 4.]],\n",
              "\n",
              "        [[8., 6., 5., 3., 4., 4.],\n",
              "         [6., 5., 5., 4., 4., 4.],\n",
              "         [5., 5., 1., 4., 4., 3.],\n",
              "         [5., 1., 4., 4., 3., 6.]],\n",
              "\n",
              "        [[3., 4., 4., 5., 1., 7.],\n",
              "         [4., 4., 4., 1., 7., 9.],\n",
              "         [4., 4., 3., 7., 9., 1.],\n",
              "         [4., 3., 6., 9., 1., 4.]],\n",
              "\n",
              "        [[5., 1., 7., 0., 3., 1.],\n",
              "         [1., 7., 9., 3., 1., 4.],\n",
              "         [7., 9., 1., 1., 4., 3.],\n",
              "         [9., 1., 4., 4., 3., 5.]],\n",
              "\n",
              "        [[0., 3., 1., 1., 5., 5.],\n",
              "         [3., 1., 4., 5., 5., 4.],\n",
              "         [1., 4., 3., 5., 4., 9.],\n",
              "         [4., 3., 5., 4., 9., 6.]],\n",
              "\n",
              "        [[1., 5., 5., 3., 2., 8.],\n",
              "         [5., 5., 4., 2., 8., 9.],\n",
              "         [5., 4., 9., 8., 9., 0.],\n",
              "         [4., 9., 6., 9., 0., 6.]]]])"
            ]
          },
          "metadata": {},
          "execution_count": 15
        }
      ],
      "source": [
        "pimg = prepare_img(img, *f.shape[:2])\n",
        "print (pimg.shape)\n",
        "pimg"
      ]
    },
    {
      "cell_type": "code",
      "execution_count": null,
      "metadata": {
        "id": "YAZBC7wajMO9"
      },
      "outputs": [],
      "source": []
    },
    {
      "cell_type": "markdown",
      "metadata": {
        "id": "ge1gDprRjMO-"
      },
      "source": [
        "**Registra tu solución en linea**"
      ]
    },
    {
      "cell_type": "code",
      "execution_count": null,
      "metadata": {
        "scrolled": false,
        "id": "s9SxGdhcjMO-",
        "colab": {
          "base_uri": "https://localhost:8080/",
          "height": 128
        },
        "outputId": "cbdab713-d3b5-4616-af32-9ae4a89de55a"
      },
      "outputs": [
        {
          "output_type": "display_data",
          "data": {
            "text/plain": [
              "<IPython.core.display.HTML object>"
            ],
            "text/html": [
              "\n",
              "                    <b>T2 submitted.</b> <b><font color=\"blue\">your grade is 5</font></b> \n",
              "                    <p/><pre>----- grader message -------</pre>testing your code with 100 random calls<br/><b>correct</b><pre>----------------------------</pre>\n",
              "                    <p/><p/>\n",
              "                    <div style=\"font-size:10px\"><b>SUBMISSION CODE</b> Sz7E/Yuk1dNf62Rk00EVIx9qySd6QOKIdJR7s/+LTXDTMksFM7qsGfZX5l25jK/enIN5xayBL/JD7y5RcLV6RxRGRaI2COYV7MK+p0xVA9VerCdkTRgb5+fnv0U2YThQas2TjFpvt1JyOCVaoc5hk8d8gU+DC67iO1ANky2L6iM=</div>\n",
              "                    "
            ]
          },
          "metadata": {}
        }
      ],
      "source": [
        "student.submit_task(namespace=globals(), task_id='T2');"
      ]
    },
    {
      "cell_type": "code",
      "execution_count": null,
      "metadata": {
        "id": "xnNr4ti2jMO-"
      },
      "outputs": [],
      "source": []
    },
    {
      "cell_type": "code",
      "execution_count": null,
      "metadata": {
        "id": "BBbdXw4EjMO-"
      },
      "outputs": [],
      "source": []
    },
    {
      "cell_type": "markdown",
      "metadata": {
        "id": "1IDzghBgjMO-"
      },
      "source": [
        "## TASK 3: Compute number of weights\n",
        "\n",
        "Complete the following function so that it computes the number of weights of a convolutional architecture as specified in the arguments.\n",
        "\n",
        "- `input_shape`:  the shape of the input image\n",
        "- `filters`: a list of dictionaries, with one dictionary per convolutional layer specifying the number and size of the filters of the layer.\n",
        "- `dense_shapes`: a list of integers, with one integer per dense layer specifying the number of neurons of the layer.\n",
        "\n",
        "see the example below. **YOU CANNOT USE TENSORFLOW** in your implementation. Use the function `tf_build_model` below to understand the function arguments and check your implementation.\n",
        "\n",
        "use `VALID` padding for the convolutional layers."
      ]
    },
    {
      "cell_type": "code",
      "execution_count": null,
      "metadata": {
        "id": "0zEqV1E3jMO_"
      },
      "outputs": [],
      "source": [
        "def compute_nb_weights(input_shape, filters, dense_shapes):\n",
        "    r = 0\n",
        "    input_shape = list(input_shape)\n",
        "    for filter in  filters:\n",
        "         r += filter['size']*filter['size']*input_shape[2]*filter['n_filters']+filter['n_filters']\n",
        "         pastCh = filter['n_filters']\n",
        "         input_shape[0]= input_shape[0]-filter['size']+1\n",
        "         input_shape[1]= input_shape[1]-filter['size']+1\n",
        "         input_shape[2]= filter['n_filters']\n",
        "    input_shape = input_shape[0]* input_shape[1]* input_shape[2]\n",
        "    for d in dense_shapes:\n",
        "        r+= input_shape*d + d\n",
        "        input_shape = d\n",
        "    return r"
      ]
    },
    {
      "cell_type": "code",
      "execution_count": null,
      "metadata": {
        "id": "CD4-qk-sjMO_"
      },
      "outputs": [],
      "source": [
        "fs = [ {'n_filters': 90, 'size': 5}, {'n_filters': 15, 'size': 4}]\n",
        "ds = [100,20,3]\n",
        "input_shape = (100,100,3)"
      ]
    },
    {
      "cell_type": "code",
      "execution_count": null,
      "metadata": {
        "id": "xZqrtEpUjMO_"
      },
      "outputs": [],
      "source": [
        "from tensorflow.keras.models import Sequential\n",
        "from tensorflow.keras.layers import Dense, Conv2D, Input, Flatten\n",
        "\n",
        "def tf_build_model(input_shape, filters, dense_shapes):\n",
        "\n",
        "    model = Sequential()\n",
        "    model.add(Input(shape=input_shape))  # 250x250 RGB images\n",
        "    for f in filters:\n",
        "        model.add(Conv2D(f['n_filters'], f['size'], strides=1, padding='VALID', activation=\"relu\"))\n",
        "    model.add(Flatten())\n",
        "    for n in dense_shapes:\n",
        "        model.add(Dense(n))\n",
        "\n",
        "    return model"
      ]
    },
    {
      "cell_type": "code",
      "execution_count": null,
      "metadata": {
        "id": "DClQlICZjMPA"
      },
      "outputs": [],
      "source": []
    },
    {
      "cell_type": "code",
      "execution_count": null,
      "metadata": {
        "scrolled": true,
        "id": "Y3j0qBgNjMPA",
        "colab": {
          "base_uri": "https://localhost:8080/"
        },
        "outputId": "e0d7f20c-b288-4227-ba34-ef7479eff0f2"
      },
      "outputs": [
        {
          "output_type": "stream",
          "name": "stdout",
          "text": [
            "Model: \"sequential\"\n",
            "_________________________________________________________________\n",
            " Layer (type)                Output Shape              Param #   \n",
            "=================================================================\n",
            " conv2d_1 (Conv2D)           (None, 96, 96, 90)        6840      \n",
            "                                                                 \n",
            " conv2d_2 (Conv2D)           (None, 93, 93, 15)        21615     \n",
            "                                                                 \n",
            " flatten (Flatten)           (None, 129735)            0         \n",
            "                                                                 \n",
            " dense (Dense)               (None, 100)               12973600  \n",
            "                                                                 \n",
            " dense_1 (Dense)             (None, 20)                2020      \n",
            "                                                                 \n",
            " dense_2 (Dense)             (None, 3)                 63        \n",
            "                                                                 \n",
            "=================================================================\n",
            "Total params: 13,004,138\n",
            "Trainable params: 13,004,138\n",
            "Non-trainable params: 0\n",
            "_________________________________________________________________\n"
          ]
        }
      ],
      "source": [
        "m = tf_build_model(input_shape, fs, ds)\n",
        "m.summary()"
      ]
    },
    {
      "cell_type": "markdown",
      "metadata": {
        "id": "u1C2mhv-jMPA"
      },
      "source": [
        "**Registra tu solución en linea**"
      ]
    },
    {
      "cell_type": "code",
      "execution_count": null,
      "metadata": {
        "scrolled": false,
        "id": "iMYH-ZNmjMPA",
        "colab": {
          "base_uri": "https://localhost:8080/",
          "height": 128
        },
        "outputId": "1ce91008-4973-4170-d32d-78b0532eb9d3"
      },
      "outputs": [
        {
          "output_type": "display_data",
          "data": {
            "text/plain": [
              "<IPython.core.display.HTML object>"
            ],
            "text/html": [
              "\n",
              "                    <b>T3 submitted.</b> <b><font color=\"blue\">your grade is 5</font></b> \n",
              "                    <p/><pre>----- grader message -------</pre>testing your code with 100 random calls<br/><b>correct</b><pre>----------------------------</pre>\n",
              "                    <p/><p/>\n",
              "                    <div style=\"font-size:10px\"><b>SUBMISSION CODE</b> bv7KhucyBmcBrC8pbJdry69iBVwn3bFjacVWZ8908upPY+/9Q9grxviA+aU5j+ts+tqfZ+ulk4sK3dYJJ+VIwhR0rtd91Az3ZYUlydegXZShIkOfsCev4Hm+txPigkk7O5qRvdC2Na5oiASCivmXSiwCiUuMxyyu5Coo0ccPjWU=</div>\n",
              "                    "
            ]
          },
          "metadata": {}
        }
      ],
      "source": [
        "student.submit_task(namespace=globals(), task_id='T3');"
      ]
    },
    {
      "cell_type": "code",
      "execution_count": null,
      "metadata": {
        "id": "B-hUEPF2jMPA"
      },
      "outputs": [],
      "source": []
    }
  ],
  "metadata": {
    "kernelspec": {
      "display_name": "Python 3",
      "language": "python",
      "name": "python3"
    },
    "language_info": {
      "codemirror_mode": {
        "name": "ipython",
        "version": 3
      },
      "file_extension": ".py",
      "mimetype": "text/x-python",
      "name": "python",
      "nbconvert_exporter": "python",
      "pygments_lexer": "ipython3",
      "version": "3.7.6"
    },
    "varInspector": {
      "cols": {
        "lenName": 16,
        "lenType": 16,
        "lenVar": 40
      },
      "kernels_config": {
        "python": {
          "delete_cmd_postfix": "",
          "delete_cmd_prefix": "del ",
          "library": "var_list.py",
          "varRefreshCmd": "print(var_dic_list())"
        },
        "r": {
          "delete_cmd_postfix": ") ",
          "delete_cmd_prefix": "rm(",
          "library": "var_list.r",
          "varRefreshCmd": "cat(var_dic_list()) "
        }
      },
      "types_to_exclude": [
        "module",
        "function",
        "builtin_function_or_method",
        "instance",
        "_Feature"
      ],
      "window_display": false
    },
    "colab": {
      "provenance": []
    },
    "widgets": {
      "application/vnd.jupyter.widget-state+json": {
        "195385dd0095403da4e1f9d97c192563": {
          "model_module": "@jupyter-widgets/controls",
          "model_name": "HBoxModel",
          "model_module_version": "1.5.0",
          "state": {
            "_dom_classes": [],
            "_model_module": "@jupyter-widgets/controls",
            "_model_module_version": "1.5.0",
            "_model_name": "HBoxModel",
            "_view_count": null,
            "_view_module": "@jupyter-widgets/controls",
            "_view_module_version": "1.5.0",
            "_view_name": "HBoxView",
            "box_style": "",
            "children": [
              "IPY_MODEL_8532bedfbbf7472b9119b0d825d0a06d",
              "IPY_MODEL_897e63abc4844f8d992053910a35fc89",
              "IPY_MODEL_455c42d8cafe422699def14dbc5eb6fa",
              "IPY_MODEL_551c9ffeaf6741ada5eadf79661ffa52"
            ],
            "layout": "IPY_MODEL_f387002008d44a8db7629eadf56fd5cd"
          }
        },
        "8532bedfbbf7472b9119b0d825d0a06d": {
          "model_module": "@jupyter-widgets/controls",
          "model_name": "VBoxModel",
          "model_module_version": "1.5.0",
          "state": {
            "_dom_classes": [],
            "_model_module": "@jupyter-widgets/controls",
            "_model_module_version": "1.5.0",
            "_model_name": "VBoxModel",
            "_view_count": null,
            "_view_module": "@jupyter-widgets/controls",
            "_view_module_version": "1.5.0",
            "_view_name": "VBoxView",
            "box_style": "",
            "children": [
              "IPY_MODEL_174f34c4a64d4e8abacc57474dd7bcdd",
              "IPY_MODEL_c5ce314f7485464091beced8c0385801"
            ],
            "layout": "IPY_MODEL_076b6dac640d4c04bd81a4deb00abaf8"
          }
        },
        "897e63abc4844f8d992053910a35fc89": {
          "model_module": "@jupyter-widgets/controls",
          "model_name": "ButtonModel",
          "model_module_version": "1.5.0",
          "state": {
            "_dom_classes": [
              "login_button"
            ],
            "_model_module": "@jupyter-widgets/controls",
            "_model_module_version": "1.5.0",
            "_model_name": "ButtonModel",
            "_view_count": null,
            "_view_module": "@jupyter-widgets/controls",
            "_view_module_version": "1.5.0",
            "_view_name": "ButtonView",
            "button_style": "",
            "description": "Login with email",
            "disabled": false,
            "icon": "",
            "layout": "IPY_MODEL_7dcc83cdb592464b976f4cc79635fd8e",
            "style": "IPY_MODEL_efba4126264a4b0ea889f6a697d5dd2d",
            "tooltip": ""
          }
        },
        "455c42d8cafe422699def14dbc5eb6fa": {
          "model_module": "@jupyter-widgets/controls",
          "model_name": "HTMLModel",
          "model_module_version": "1.5.0",
          "state": {
            "_dom_classes": [],
            "_model_module": "@jupyter-widgets/controls",
            "_model_module_version": "1.5.0",
            "_model_name": "HTMLModel",
            "_view_count": null,
            "_view_module": "@jupyter-widgets/controls",
            "_view_module_version": "1.5.0",
            "_view_name": "HTMLView",
            "description": "",
            "description_tooltip": null,
            "layout": "IPY_MODEL_efa97fab53b0466d880f5ede2680b547",
            "placeholder": "​",
            "style": "IPY_MODEL_499cf49aa5b442c7acd0b1f660f63893",
            "value": "<center><big>or</big></center>"
          }
        },
        "551c9ffeaf6741ada5eadf79661ffa52": {
          "model_module": "@jupyter-widgets/controls",
          "model_name": "ButtonModel",
          "model_module_version": "1.5.0",
          "state": {
            "_dom_classes": [
              "google_button"
            ],
            "_model_module": "@jupyter-widgets/controls",
            "_model_module_version": "1.5.0",
            "_model_name": "ButtonModel",
            "_view_count": null,
            "_view_module": "@jupyter-widgets/controls",
            "_view_module_version": "1.5.0",
            "_view_name": "ButtonView",
            "button_style": "",
            "description": "Login with Google",
            "disabled": false,
            "icon": "",
            "layout": "IPY_MODEL_0d06845bc727453cb05af853243add71",
            "style": "IPY_MODEL_cebdd413b64e45d382464d3a2ce0d227",
            "tooltip": ""
          }
        },
        "f387002008d44a8db7629eadf56fd5cd": {
          "model_module": "@jupyter-widgets/base",
          "model_name": "LayoutModel",
          "model_module_version": "1.2.0",
          "state": {
            "_model_module": "@jupyter-widgets/base",
            "_model_module_version": "1.2.0",
            "_model_name": "LayoutModel",
            "_view_count": null,
            "_view_module": "@jupyter-widgets/base",
            "_view_module_version": "1.2.0",
            "_view_name": "LayoutView",
            "align_content": null,
            "align_items": null,
            "align_self": null,
            "border": null,
            "bottom": null,
            "display": null,
            "flex": null,
            "flex_flow": null,
            "grid_area": null,
            "grid_auto_columns": null,
            "grid_auto_flow": null,
            "grid_auto_rows": null,
            "grid_column": null,
            "grid_gap": null,
            "grid_row": null,
            "grid_template_areas": null,
            "grid_template_columns": null,
            "grid_template_rows": null,
            "height": null,
            "justify_content": null,
            "justify_items": null,
            "left": null,
            "margin": null,
            "max_height": null,
            "max_width": null,
            "min_height": null,
            "min_width": null,
            "object_fit": null,
            "object_position": null,
            "order": null,
            "overflow": null,
            "overflow_x": null,
            "overflow_y": null,
            "padding": null,
            "right": null,
            "top": null,
            "visibility": null,
            "width": null
          }
        },
        "174f34c4a64d4e8abacc57474dd7bcdd": {
          "model_module": "@jupyter-widgets/controls",
          "model_name": "TextModel",
          "model_module_version": "1.5.0",
          "state": {
            "_dom_classes": [],
            "_model_module": "@jupyter-widgets/controls",
            "_model_module_version": "1.5.0",
            "_model_name": "TextModel",
            "_view_count": null,
            "_view_module": "@jupyter-widgets/controls",
            "_view_module_version": "1.5.0",
            "_view_name": "TextView",
            "continuous_update": true,
            "description": "email",
            "description_tooltip": null,
            "disabled": false,
            "layout": "IPY_MODEL_02a96704b37a44f0a203f2cb82a4d7a0",
            "placeholder": "​",
            "style": "IPY_MODEL_d0410fe906ee4aec893198d565ca3fac",
            "value": ""
          }
        },
        "c5ce314f7485464091beced8c0385801": {
          "model_module": "@jupyter-widgets/controls",
          "model_name": "PasswordModel",
          "model_module_version": "1.5.0",
          "state": {
            "_dom_classes": [],
            "_model_module": "@jupyter-widgets/controls",
            "_model_module_version": "1.5.0",
            "_model_name": "PasswordModel",
            "_view_count": null,
            "_view_module": "@jupyter-widgets/controls",
            "_view_module_version": "1.5.0",
            "_view_name": "PasswordView",
            "continuous_update": true,
            "description": "password",
            "description_tooltip": null,
            "disabled": false,
            "layout": "IPY_MODEL_99585e75fc984d2ba2ebfbaa98604d5e",
            "placeholder": "​",
            "style": "IPY_MODEL_d18b03401d41432b93f6a54dc6bb203c",
            "value": ""
          }
        },
        "076b6dac640d4c04bd81a4deb00abaf8": {
          "model_module": "@jupyter-widgets/base",
          "model_name": "LayoutModel",
          "model_module_version": "1.2.0",
          "state": {
            "_model_module": "@jupyter-widgets/base",
            "_model_module_version": "1.2.0",
            "_model_name": "LayoutModel",
            "_view_count": null,
            "_view_module": "@jupyter-widgets/base",
            "_view_module_version": "1.2.0",
            "_view_name": "LayoutView",
            "align_content": null,
            "align_items": null,
            "align_self": null,
            "border": null,
            "bottom": null,
            "display": null,
            "flex": null,
            "flex_flow": null,
            "grid_area": null,
            "grid_auto_columns": null,
            "grid_auto_flow": null,
            "grid_auto_rows": null,
            "grid_column": null,
            "grid_gap": null,
            "grid_row": null,
            "grid_template_areas": null,
            "grid_template_columns": null,
            "grid_template_rows": null,
            "height": null,
            "justify_content": null,
            "justify_items": null,
            "left": null,
            "margin": null,
            "max_height": null,
            "max_width": null,
            "min_height": null,
            "min_width": null,
            "object_fit": null,
            "object_position": null,
            "order": null,
            "overflow": null,
            "overflow_x": null,
            "overflow_y": null,
            "padding": null,
            "right": null,
            "top": null,
            "visibility": null,
            "width": null
          }
        },
        "7dcc83cdb592464b976f4cc79635fd8e": {
          "model_module": "@jupyter-widgets/base",
          "model_name": "LayoutModel",
          "model_module_version": "1.2.0",
          "state": {
            "_model_module": "@jupyter-widgets/base",
            "_model_module_version": "1.2.0",
            "_model_name": "LayoutModel",
            "_view_count": null,
            "_view_module": "@jupyter-widgets/base",
            "_view_module_version": "1.2.0",
            "_view_name": "LayoutView",
            "align_content": null,
            "align_items": null,
            "align_self": null,
            "border": null,
            "bottom": null,
            "display": null,
            "flex": null,
            "flex_flow": null,
            "grid_area": null,
            "grid_auto_columns": null,
            "grid_auto_flow": null,
            "grid_auto_rows": null,
            "grid_column": null,
            "grid_gap": null,
            "grid_row": null,
            "grid_template_areas": null,
            "grid_template_columns": null,
            "grid_template_rows": null,
            "height": "53px",
            "justify_content": null,
            "justify_items": null,
            "left": null,
            "margin": null,
            "max_height": null,
            "max_width": null,
            "min_height": null,
            "min_width": null,
            "object_fit": null,
            "object_position": null,
            "order": null,
            "overflow": null,
            "overflow_x": null,
            "overflow_y": null,
            "padding": null,
            "right": null,
            "top": null,
            "visibility": null,
            "width": "150px"
          }
        },
        "efba4126264a4b0ea889f6a697d5dd2d": {
          "model_module": "@jupyter-widgets/controls",
          "model_name": "ButtonStyleModel",
          "model_module_version": "1.5.0",
          "state": {
            "_model_module": "@jupyter-widgets/controls",
            "_model_module_version": "1.5.0",
            "_model_name": "ButtonStyleModel",
            "_view_count": null,
            "_view_module": "@jupyter-widgets/base",
            "_view_module_version": "1.2.0",
            "_view_name": "StyleView",
            "button_color": null,
            "font_weight": ""
          }
        },
        "efa97fab53b0466d880f5ede2680b547": {
          "model_module": "@jupyter-widgets/base",
          "model_name": "LayoutModel",
          "model_module_version": "1.2.0",
          "state": {
            "_model_module": "@jupyter-widgets/base",
            "_model_module_version": "1.2.0",
            "_model_name": "LayoutModel",
            "_view_count": null,
            "_view_module": "@jupyter-widgets/base",
            "_view_module_version": "1.2.0",
            "_view_name": "LayoutView",
            "align_content": null,
            "align_items": null,
            "align_self": null,
            "border": null,
            "bottom": null,
            "display": null,
            "flex": null,
            "flex_flow": null,
            "grid_area": null,
            "grid_auto_columns": null,
            "grid_auto_flow": null,
            "grid_auto_rows": null,
            "grid_column": null,
            "grid_gap": null,
            "grid_row": null,
            "grid_template_areas": null,
            "grid_template_columns": null,
            "grid_template_rows": null,
            "height": null,
            "justify_content": null,
            "justify_items": null,
            "left": null,
            "margin": null,
            "max_height": null,
            "max_width": null,
            "min_height": null,
            "min_width": null,
            "object_fit": null,
            "object_position": null,
            "order": null,
            "overflow": null,
            "overflow_x": null,
            "overflow_y": null,
            "padding": null,
            "right": null,
            "top": null,
            "visibility": null,
            "width": "100px"
          }
        },
        "499cf49aa5b442c7acd0b1f660f63893": {
          "model_module": "@jupyter-widgets/controls",
          "model_name": "DescriptionStyleModel",
          "model_module_version": "1.5.0",
          "state": {
            "_model_module": "@jupyter-widgets/controls",
            "_model_module_version": "1.5.0",
            "_model_name": "DescriptionStyleModel",
            "_view_count": null,
            "_view_module": "@jupyter-widgets/base",
            "_view_module_version": "1.2.0",
            "_view_name": "StyleView",
            "description_width": ""
          }
        },
        "0d06845bc727453cb05af853243add71": {
          "model_module": "@jupyter-widgets/base",
          "model_name": "LayoutModel",
          "model_module_version": "1.2.0",
          "state": {
            "_model_module": "@jupyter-widgets/base",
            "_model_module_version": "1.2.0",
            "_model_name": "LayoutModel",
            "_view_count": null,
            "_view_module": "@jupyter-widgets/base",
            "_view_module_version": "1.2.0",
            "_view_name": "LayoutView",
            "align_content": null,
            "align_items": null,
            "align_self": null,
            "border": null,
            "bottom": null,
            "display": null,
            "flex": null,
            "flex_flow": null,
            "grid_area": null,
            "grid_auto_columns": null,
            "grid_auto_flow": null,
            "grid_auto_rows": null,
            "grid_column": null,
            "grid_gap": null,
            "grid_row": null,
            "grid_template_areas": null,
            "grid_template_columns": null,
            "grid_template_rows": null,
            "height": "53px",
            "justify_content": null,
            "justify_items": null,
            "left": null,
            "margin": null,
            "max_height": null,
            "max_width": null,
            "min_height": null,
            "min_width": null,
            "object_fit": null,
            "object_position": null,
            "order": null,
            "overflow": null,
            "overflow_x": null,
            "overflow_y": null,
            "padding": null,
            "right": null,
            "top": null,
            "visibility": null,
            "width": "200px"
          }
        },
        "cebdd413b64e45d382464d3a2ce0d227": {
          "model_module": "@jupyter-widgets/controls",
          "model_name": "ButtonStyleModel",
          "model_module_version": "1.5.0",
          "state": {
            "_model_module": "@jupyter-widgets/controls",
            "_model_module_version": "1.5.0",
            "_model_name": "ButtonStyleModel",
            "_view_count": null,
            "_view_module": "@jupyter-widgets/base",
            "_view_module_version": "1.2.0",
            "_view_name": "StyleView",
            "button_color": null,
            "font_weight": ""
          }
        },
        "02a96704b37a44f0a203f2cb82a4d7a0": {
          "model_module": "@jupyter-widgets/base",
          "model_name": "LayoutModel",
          "model_module_version": "1.2.0",
          "state": {
            "_model_module": "@jupyter-widgets/base",
            "_model_module_version": "1.2.0",
            "_model_name": "LayoutModel",
            "_view_count": null,
            "_view_module": "@jupyter-widgets/base",
            "_view_module_version": "1.2.0",
            "_view_name": "LayoutView",
            "align_content": null,
            "align_items": null,
            "align_self": null,
            "border": null,
            "bottom": null,
            "display": null,
            "flex": null,
            "flex_flow": null,
            "grid_area": null,
            "grid_auto_columns": null,
            "grid_auto_flow": null,
            "grid_auto_rows": null,
            "grid_column": null,
            "grid_gap": null,
            "grid_row": null,
            "grid_template_areas": null,
            "grid_template_columns": null,
            "grid_template_rows": null,
            "height": "25px",
            "justify_content": null,
            "justify_items": null,
            "left": null,
            "margin": null,
            "max_height": null,
            "max_width": null,
            "min_height": null,
            "min_width": null,
            "object_fit": null,
            "object_position": null,
            "order": null,
            "overflow": null,
            "overflow_x": null,
            "overflow_y": null,
            "padding": null,
            "right": null,
            "top": null,
            "visibility": null,
            "width": "300px"
          }
        },
        "d0410fe906ee4aec893198d565ca3fac": {
          "model_module": "@jupyter-widgets/controls",
          "model_name": "DescriptionStyleModel",
          "model_module_version": "1.5.0",
          "state": {
            "_model_module": "@jupyter-widgets/controls",
            "_model_module_version": "1.5.0",
            "_model_name": "DescriptionStyleModel",
            "_view_count": null,
            "_view_module": "@jupyter-widgets/base",
            "_view_module_version": "1.2.0",
            "_view_name": "StyleView",
            "description_width": ""
          }
        },
        "99585e75fc984d2ba2ebfbaa98604d5e": {
          "model_module": "@jupyter-widgets/base",
          "model_name": "LayoutModel",
          "model_module_version": "1.2.0",
          "state": {
            "_model_module": "@jupyter-widgets/base",
            "_model_module_version": "1.2.0",
            "_model_name": "LayoutModel",
            "_view_count": null,
            "_view_module": "@jupyter-widgets/base",
            "_view_module_version": "1.2.0",
            "_view_name": "LayoutView",
            "align_content": null,
            "align_items": null,
            "align_self": null,
            "border": null,
            "bottom": null,
            "display": null,
            "flex": null,
            "flex_flow": null,
            "grid_area": null,
            "grid_auto_columns": null,
            "grid_auto_flow": null,
            "grid_auto_rows": null,
            "grid_column": null,
            "grid_gap": null,
            "grid_row": null,
            "grid_template_areas": null,
            "grid_template_columns": null,
            "grid_template_rows": null,
            "height": "24px",
            "justify_content": null,
            "justify_items": null,
            "left": null,
            "margin": null,
            "max_height": null,
            "max_width": null,
            "min_height": null,
            "min_width": null,
            "object_fit": null,
            "object_position": null,
            "order": null,
            "overflow": null,
            "overflow_x": null,
            "overflow_y": null,
            "padding": null,
            "right": null,
            "top": null,
            "visibility": null,
            "width": "300px"
          }
        },
        "d18b03401d41432b93f6a54dc6bb203c": {
          "model_module": "@jupyter-widgets/controls",
          "model_name": "DescriptionStyleModel",
          "model_module_version": "1.5.0",
          "state": {
            "_model_module": "@jupyter-widgets/controls",
            "_model_module_version": "1.5.0",
            "_model_name": "DescriptionStyleModel",
            "_view_count": null,
            "_view_module": "@jupyter-widgets/base",
            "_view_module_version": "1.2.0",
            "_view_name": "StyleView",
            "description_width": ""
          }
        }
      }
    }
  },
  "nbformat": 4,
  "nbformat_minor": 0
}