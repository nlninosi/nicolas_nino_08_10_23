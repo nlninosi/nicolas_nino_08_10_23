{
  "nbformat": 4,
  "nbformat_minor": 0,
  "metadata": {
    "colab": {
      "provenance": []
    },
    "kernelspec": {
      "name": "python3",
      "display_name": "Python 3"
    },
    "language_info": {
      "name": "python"
    }
  },
  "cells": [
    {
      "cell_type": "markdown",
      "source": [
        "#Proyecto Final"
      ],
      "metadata": {
        "id": "0IpLwQ8uWgSU"
      }
    },
    {
      "cell_type": "markdown",
      "source": [
        "###Integrantes"
      ],
      "metadata": {
        "id": "buzMWzgBWpjt"
      }
    },
    {
      "cell_type": "markdown",
      "source": [
        "##Carga De los datos"
      ],
      "metadata": {
        "id": "7_4V1TX3WABQ"
      }
    },
    {
      "cell_type": "markdown",
      "source": [
        "Cargamos el dataset [] desde Kaggle"
      ],
      "metadata": {
        "id": "SUWW9wqecTJc"
      }
    },
    {
      "cell_type": "code",
      "source": [
        "!mkdir ~/.kaggle"
      ],
      "metadata": {
        "id": "O-tctWtTWyxA"
      },
      "execution_count": null,
      "outputs": []
    },
    {
      "cell_type": "code",
      "source": [
        "%%writefile ~/.kaggle/kaggle.json\n",
        "{\"username\":\"nicolasninosierra\",\"key\":\"735bfacce155c04db6a686b909992242\"}"
      ],
      "metadata": {
        "colab": {
          "base_uri": "https://localhost:8080/"
        },
        "id": "JxXV-y-Sagrl",
        "outputId": "ea8849ea-bc29-451c-e983-e7ae43214fae"
      },
      "execution_count": null,
      "outputs": [
        {
          "output_type": "stream",
          "name": "stdout",
          "text": [
            "Writing /root/.kaggle/kaggle.json\n"
          ]
        }
      ]
    },
    {
      "cell_type": "code",
      "source": [
        "#Se instala la api de kaggle\n",
        "!pip install kaggle\n",
        "#Se descarga el dataset\n",
        "! kaggle datasets download lava18/google-play-store-apps -f googleplaystore.csv"
      ],
      "metadata": {
        "colab": {
          "base_uri": "https://localhost:8080/"
        },
        "id": "ljYVkOjAapal",
        "outputId": "05a304a4-8d96-47b4-968e-402410126e88"
      },
      "execution_count": null,
      "outputs": [
        {
          "output_type": "stream",
          "name": "stdout",
          "text": [
            "Looking in indexes: https://pypi.org/simple, https://us-python.pkg.dev/colab-wheels/public/simple/\n",
            "Requirement already satisfied: kaggle in /usr/local/lib/python3.8/dist-packages (1.5.12)\n",
            "Requirement already satisfied: python-dateutil in /usr/local/lib/python3.8/dist-packages (from kaggle) (2.8.2)\n",
            "Requirement already satisfied: tqdm in /usr/local/lib/python3.8/dist-packages (from kaggle) (4.64.1)\n",
            "Requirement already satisfied: certifi in /usr/local/lib/python3.8/dist-packages (from kaggle) (2022.9.24)\n",
            "Requirement already satisfied: python-slugify in /usr/local/lib/python3.8/dist-packages (from kaggle) (7.0.0)\n",
            "Requirement already satisfied: requests in /usr/local/lib/python3.8/dist-packages (from kaggle) (2.23.0)\n",
            "Requirement already satisfied: six>=1.10 in /usr/local/lib/python3.8/dist-packages (from kaggle) (1.15.0)\n",
            "Requirement already satisfied: urllib3 in /usr/local/lib/python3.8/dist-packages (from kaggle) (1.24.3)\n",
            "Requirement already satisfied: text-unidecode>=1.3 in /usr/local/lib/python3.8/dist-packages (from python-slugify->kaggle) (1.3)\n",
            "Requirement already satisfied: chardet<4,>=3.0.2 in /usr/local/lib/python3.8/dist-packages (from requests->kaggle) (3.0.4)\n",
            "Requirement already satisfied: idna<3,>=2.5 in /usr/local/lib/python3.8/dist-packages (from requests->kaggle) (2.10)\n",
            "Warning: Your Kaggle API key is readable by other users on this system! To fix this, you can run 'chmod 600 /root/.kaggle/kaggle.json'\n",
            "Downloading googleplaystore.csv.zip to /content\n",
            "  0% 0.00/312k [00:00<?, ?B/s]\n",
            "100% 312k/312k [00:00<00:00, 45.1MB/s]\n"
          ]
        }
      ]
    },
    {
      "cell_type": "code",
      "source": [
        "!unzip googleplaystore.csv.zip"
      ],
      "metadata": {
        "colab": {
          "base_uri": "https://localhost:8080/"
        },
        "id": "x-9A8xPFbSAS",
        "outputId": "1f978b6b-3b4b-4609-ee3d-6a8da76cc1ba"
      },
      "execution_count": null,
      "outputs": [
        {
          "output_type": "stream",
          "name": "stdout",
          "text": [
            "Archive:  googleplaystore.csv.zip\n",
            "  inflating: googleplaystore.csv     \n"
          ]
        }
      ]
    },
    {
      "cell_type": "markdown",
      "source": [],
      "metadata": {
        "id": "cZh3Gft_cYHt"
      }
    },
    {
      "cell_type": "markdown",
      "source": [
        "## Preprocesamiento de los datos"
      ],
      "metadata": {
        "id": "q8a7cvv4WA5v"
      }
    },
    {
      "cell_type": "markdown",
      "source": [
        "## Definicion del modelo"
      ],
      "metadata": {
        "id": "TazhoLGrWWag"
      }
    },
    {
      "cell_type": "markdown",
      "source": [
        "##Entrenamiento del modelo"
      ],
      "metadata": {
        "id": "CpUhRJPoWClF"
      }
    }
  ]
}