{
  "nbformat": 4,
  "nbformat_minor": 0,
  "metadata": {
    "colab": {
      "provenance": []
    },
    "kernelspec": {
      "display_name": "Python 3",
      "language": "python",
      "name": "python3"
    },
    "language_info": {
      "codemirror_mode": {
        "name": "ipython",
        "version": 3
      },
      "file_extension": ".py",
      "mimetype": "text/x-python",
      "name": "python",
      "nbconvert_exporter": "python",
      "pygments_lexer": "ipython3",
      "version": "3.6.9"
    }
  },
  "cells": [
    {
      "cell_type": "markdown",
      "metadata": {
        "id": "laznLMiyBXLU"
      },
      "source": [
        "# Taller 1\n",
        "## Introducción a los Sistemas Inteligentes\n",
        "\n",
        "Para que sea evaluado, este taller debe ser enviado a través de [UNCode](https://uncode.unal.edu.co/) antes de la fecha límite.\n",
        "\n",
        "--------------------\n",
        "\n",
        "# Tallbots y Smallbots\n",
        "\n",
        "Aima y Arya son mejores amigas, pero no solo son amigas. Son ingenieras de software y expertas en inteligencia artifical de la Unión Nacional de Algoritmos de Localización (UNAL). En su tiempo libre a Aima le gusta retar a Arya con distintos problemas y puzzles.\n",
        "\n",
        "Esta vez Aima decidio usar el problema de los Tallbots y Smallbots. Hay 2 Tallbots y 2 Smallbots, los bots quieren cruzar un rio y deben hacerlo en un bote, ya que si tocan el agua se dañarián.\n",
        "\n",
        "Pero hay un problema: El bote que tienen es muy pequeño para llevarlos a todos y solo pueden estar al mismo tiempo como máximo 1 Tallbot ó 2 Smallbots, por ejemplo si hubiera 2 Tallbots o 2 Smallbots y 1 Tallbot el bote se hundiría y los bots estarían tristes. Formalmente, el bote tiene capacidad de carga 2, los Smallbots tienen peso 1 y los Tallbots tienen peso 2. El bote no se puede mover si no lleva ningún bot.\n",
        "\n",
        "Sin embargo, Arya habiendo resuelto muchos problemas similares lo solucionó en menos de 1 minuto! Aima decidió darle una versión más díficil del problema a Arya: Dada una configuración inicial y final de bots Arya tiene que decirle a Aima la cantidad de pasos más pequeña y la correspondiente secuencia de pasos para llegar del estado inicial al estado final. En esta versión del problema puede haber una cantidad arbitraria de Tallbots y de Smallbots al igual que la capacidad del bote puede variar. Puede asumir que los movimientos de los bots son instantaneos, es decir, solo se cuenta como un paso de tiempo el movimiento de un lado a otro.\n",
        "\n",
        "Arya esta completamente segura que puede escribir un programa que resuelva el problema general en menos de 10 minutos pero esta ocupada trabajando en un proyecto que le asigno el presidente de la UNAL. ¿Puedes ayudar a Arya a resolver este problema?"
      ]
    },
    {
      "cell_type": "markdown",
      "metadata": {
        "id": "f5Je2WecAwL0"
      },
      "source": [
        "## 1. Defina una clase que represente el problema generalizado de Smallbots y Tallbots\n",
        "\n",
        "Un estado del problema se puede representar usando una tupla de 3 posiciones donde el primer elemento representa el número de Tallbots al lado izquierdo, el segundo el númeor de Smallbots en el lado izquierdo y el último elemento de que lado se encuentra el bote. Por ejemplo, asumiendo que hay 2 Tallbots y 2 Smallbots, el siguiente vector:\n",
        "\n",
        "```python\n",
        "(1, 2, 0)\n",
        "```\n",
        "\n",
        "Representaria un estado en donde hay 1 Tallbot, 2 Smallbots y el bote en el lado izquierdo y un Tallbot en el lado derecho.\n",
        "\n",
        "\n",
        "Su programa sera evaluado en distintos casos de prueba y debe soportar el siguiente formato de entrada y salida. (No cambiar nombre ni firma de los metodos)\n",
        "\n",
        "**Entrada:**\n",
        "\n",
        "**init** debe aceptar 4 parametros. **initial** y **goal** tuplas representando el estado inicial y final, **n** y **m** representando el número total de Tallbots y Smallbots correspondientemente y **c** la capacidad del bote. Todos los valores son números enteros.\n",
        "\n",
        "Para cada estado **(tb, sb, l)**. **tb** es el número de Tallbots en el lado izquierdo, **sb** el número de Smallbots en el lado izquierdo y **l** el lado en que se encuentra el bote en el estado correspondiente, 0 significa que esta en la izquierda y 1 en la derecha.\n",
        "\n",
        "Está garantizado que los valores cumplen con la siguientes condiciones:\n",
        "\n",
        "**1 <= n + m <= 15**\n",
        "\n",
        "**2 <= c <= 20**\n",
        "\n",
        "**0 <= tb, sb <= n**\n",
        "\n",
        "**0 <= li, lf <= 1**\n",
        "\n",
        "**Salida**\n",
        "\n",
        "La función `action` debe retornar todas las posibles acciones para un estado dado en una lista de tuplas. No importa el orden de la lista. El primer elemento de cada tupla representa cuantos Tallbots se van a mover y el segundo elemento cuantos Smallbots se van a mover.\n",
        "\n",
        "La función `result` debe retornar el estado resultante de una acción sobre un estado.\n",
        "\n",
        "```python\n",
        ">> p = TBSBProblem((1, 2, 0), (0, 0, 1), 1, 2, 2)\n",
        ">> print(p.actions(p.initial))\n",
        ">> [(0, 1), (0, 2), (1, 0)]\n",
        ">> print(p.result(p.initial, (0, 2))\n",
        ">> (1, 0, 1)\n",
        "```\n",
        "\n",
        "--------------------------------\n",
        "\n",
        "\n",
        "```python\n",
        ">> p = TBSBProblem((1, 2, 1), (0, 0, 1), 1, 2, 2)\n",
        ">> print(p.actions(p.initial))\n",
        ">> []\n",
        "```\n",
        "\n",
        "--------------------------------\n",
        "\n",
        "```python\n",
        ">> p = TBSBProblem((1, 2, 0), (0, 0, 1), 1, 2, 6)\n",
        ">> print(p.actions(p.initial))\n",
        ">> [(0, 1), (0, 2), (1, 0), (1, 1), (1, 2)]\n",
        ">> print(p.result(p.initial, (1, 2))\n",
        ">> (0, 0, 1)\n",
        ">> print(p.is_goal(p.result(p.initial, (1, 2))))\n",
        ">> True\n",
        "```"
      ]
    },
    {
      "cell_type": "code",
      "source": [
        "from collections import defaultdict, deque"
      ],
      "metadata": {
        "id": "PAX2k4YRC5TA"
      },
      "execution_count": null,
      "outputs": []
    },
    {
      "cell_type": "code",
      "metadata": {
        "id": "fs_eMwNS_HQc"
      },
      "source": [
        "class Problem(object):\n",
        "    \"\"\"The abstract class for a formal problem. A new domain subclasses this,\n",
        "    overriding `actions` and `results`, and perhaps other methods.\n",
        "    The default heuristic is 0 and the default action cost is 1 for all states.\n",
        "    When yiou create an instance of a subclass, specify `initial`, and `goal` states\n",
        "    (or give an `is_goal` method) and perhaps other keyword args for the subclass.\"\"\"\n",
        "\n",
        "    def __init__(self, initial=None, goal=None, **kwds):\n",
        "        self.__dict__.update(initial=initial, goal=goal, **kwds)\n",
        "\n",
        "    def actions(self, state):        raise NotImplementedError\n",
        "    def result(self, state, action): raise NotImplementedError\n",
        "    def is_goal(self, state):        return state == self.goal\n",
        "    def action_cost(self, s, a, s1): return 1\n",
        "    def h(self, node):               return 0\n",
        "\n",
        "    def __str__(self):\n",
        "        return '{}({!r}, {!r})'.format(\n",
        "            type(self).__name__, self.initial, self.goal)\n",
        "\n",
        "\n",
        "class TBSBProblem :\n",
        "\n",
        "  def __init__(self, initial, goal, n, m, c):\n",
        "      '''\n",
        "      initial: tupla representando el estado inicial de la forma (tb, sb, side).\n",
        "                tb es el número de Tallbots en el lado izquierdo, sb el número\n",
        "                de Smallbots en el lado izquierdo y side el lado en que se encuentra\n",
        "                el bote en el estado correspondiente, 0 significa que esta en\n",
        "                la izquierda y 1 en la derecha.\n",
        "      goal: tupla representando el estado objetivo, con la misma convención de\n",
        "      initial.\n",
        "      n: número total de Tallbots\n",
        "      m: número total de Smallbots\n",
        "      c: capacidad del bote\n",
        "      '''\n",
        "\n",
        "    ### Your code goes here\n",
        "      if( n + m >= 1 and n + m <= 15 and c>=2 and c<=20):\n",
        "        self.initial= initial\n",
        "        self.goal = goal\n",
        "        self.n = n\n",
        "        self.m = m\n",
        "        self.c = c\n",
        "        #print('creado')\n",
        "\n",
        "  #def actions (self, state):\n",
        "\n",
        "  def actions(self, state):\n",
        "    '''\n",
        "    state: Tupla reperesentando un estado de la forma (tb, sb, side)\n",
        "\n",
        "    Returns: [] Lista de tuplas representado las acciones posibles en el estado state,\n",
        "    cada tupla con la forma (tb, sb) donde tb es el número de Tallbots que se van a mover\n",
        "    y sb el número de Smallbots que se van a mover.'''\n",
        "    ### Your code goes here\n",
        "    result = []\n",
        "    if(state[0] == self.n and state[1] == self.m and state[2] == self.goal[2]):\n",
        "      return result\n",
        "    elif (state[2] == 0):\n",
        "        TBM = state[0] #TB missing\n",
        "        SBM = state[1] #TS missing\n",
        "    else:\n",
        "      TBM = self.n - state[0]\n",
        "      SBM = self.m - state[1]\n",
        "\n",
        "    BM = (TBM,SBM) #bots missing\n",
        "\n",
        "    for i in range(0,BM[0]+1):\n",
        "      for j in range(0,BM[1]+1):\n",
        "        if(((i*2)+j)<=self.c):\n",
        "          if(i!=0 or j!=0):\n",
        "            result.append((i,j))\n",
        "    return result\n",
        "\n",
        "  def result(self, state, action):\n",
        "    '''\n",
        "    state: Tupla reperesentando un estado de la forma (tb, sb, side)\n",
        "    action: Acción representada de la forma (tb, sb)\n",
        "\n",
        "    Returns: Tupla representando el estado resultante al realizar la acción en el estado state.\n",
        "    '''\n",
        "    ### Your code goes here\n",
        "\n",
        "    if(state[2]==1):\n",
        "      a = abs(action[0] + state[0])\n",
        "      b = abs(action[1] + state[1])\n",
        "      c = 0\n",
        "    else:\n",
        "      a = abs(action[0] - state[0])\n",
        "      b = abs(action[1] - state[1])\n",
        "      c = 1\n",
        "    result = (a,b,c)\n",
        "    return result\n",
        "\n",
        "  def is_goal(self, state):\n",
        "    return state == self.goal"
      ],
      "execution_count": null,
      "outputs": []
    },
    {
      "cell_type": "code",
      "metadata": {
        "id": "6U7qvT_oe8Cb"
      },
      "source": [
        "p = TBSBProblem((1, 2, 0), (0, 0, 1), 1, 2, 6)"
      ],
      "execution_count": null,
      "outputs": []
    },
    {
      "cell_type": "code",
      "source": [
        "print(p.actions(p.initial))\n",
        "print(p.result((1, 2, 0),(1,2)))\n",
        "print(p.is_goal(p.result((1, 2, 0),(1,2))))"
      ],
      "metadata": {
        "colab": {
          "base_uri": "https://localhost:8080/"
        },
        "id": "Xf6XbYLsC_j-",
        "outputId": "39249306-3c05-4ea3-d97f-a51a13253f13"
      },
      "execution_count": null,
      "outputs": [
        {
          "output_type": "stream",
          "name": "stdout",
          "text": [
            "[(0, 1), (0, 2), (1, 0), (1, 1), (1, 2)]\n",
            "(0, 0, 1)\n",
            "True\n"
          ]
        }
      ]
    },
    {
      "cell_type": "markdown",
      "metadata": {
        "id": "oxcVFdkNCtnI"
      },
      "source": [
        "## 2. Defina una función que resuelva el problema general\n",
        "\n",
        "Escriba una función que resuelva el problema de los Tallbots y Smallbots para una entrada igual del punto anterior.\n",
        "\n",
        "**Salida**\n",
        "Debe retornar la longitud del camino más corto y la secuencia de pasos a seguir. Si hay varios soluciones retorne cualquiera y si no hay solución retorne -1.\n",
        "\n",
        "**Ejemplos**\n",
        "\n",
        "```python\n",
        ">> print(solve((1, 2, 1), (0, 0, 1), 1, 2, 2))\n",
        ">> -1\n",
        ">> print(solve((1, 2, 0), (0, 0, 1), 1, 2, 2))\n",
        ">> (5, [(0, 2), (0, 1), (1, 0), (0, 1), (0, 2)])\n",
        ">> print(solve((2, 0, 1), (1, 1, 0), 2, 2, 2))\n",
        ">> (5, [(0, 1), (1, 0), (0, 1), (0, 2), (0, 1)])\n",
        ">> print(solve((2, 2, 0), (0, 0, 1), 2, 2, 2))\n",
        ">> (9, [(0, 2), (0, 1), (1, 0), (0, 1), (0, 2), (0, 1), (1, 0), (0, 1), (0, 2)])\n",
        "```\n",
        "**Explicación:**\n",
        "En el primer caso el bote empieza en la derecha y los bots en la izquierda, por lo que no pueden realizar ningún movimiento."
      ]
    },
    {
      "cell_type": "code",
      "metadata": {
        "id": "KJCNxLObCoBa"
      },
      "source": [
        "class Node:\n",
        "    \"A Node in a search tree.\"\n",
        "    def __init__(self, state, parent=None, action=None, path_cost=0):\n",
        "        self.__dict__.update(state=state, parent=parent, action=action, path_cost=path_cost)\n",
        "\n",
        "    def __repr__(self): return '<{}>'.format(self.state)\n",
        "    def __len__(self): return 0 if self.parent is None else (1 + len(self.parent))\n",
        "    def __lt__(self, other): return self.path_cost < other.path_cost\n",
        "\n",
        "def expand(problem, node):\n",
        "    \"Expand a node, generating the children nodes.\"\n",
        "    s = node.state\n",
        "    for action in problem.actions(s):\n",
        "       # print('action: ',action)\n",
        "        s1 = problem.result(s, action)\n",
        "       # print(s1)\n",
        "        #cost = node.path_cost + problem.action_cost(s, action, s1)\n",
        "        yield Node(s1, node, action)\n",
        "\n",
        "FIFOQueue = deque\n",
        "\n",
        "def breadth_first_search(problem):\n",
        "    \"Search shallowest nodes in the search tree first.\"\n",
        "    node = Node(problem.initial)\n",
        "    if problem.is_goal(problem.initial):\n",
        "        return node\n",
        "    frontier = FIFOQueue([node])\n",
        "    reached = {problem.initial}\n",
        "    while frontier:\n",
        "        node = frontier.pop()\n",
        "        for child in expand(problem, node):\n",
        "            s = child.state\n",
        "            if problem.is_goal(s):\n",
        "                return child\n",
        "            if s not in reached:\n",
        "                reached.add(s)\n",
        "                frontier.appendleft(child)\n",
        "    return -1\n",
        "\n",
        "import math\n",
        "failure = Node('failure', path_cost=math.inf) # Indicates an algorithm couldn't find a solution.\n",
        "cutoff  = Node('cutoff',  path_cost=math.inf) # Indicates iterative deepening search was cut off.\n",
        "def path_states(node):\n",
        "    \"The sequence of states to get to this node.\"\n",
        "    if node in (cutoff, failure, None):\n",
        "        return []\n",
        "    return path_states(node.parent) + [node.state]\n",
        "\n",
        "def path_actions(node):\n",
        "    \"The sequence of actions to get to this node.\"\n",
        "    if node.parent is None:\n",
        "        return []\n",
        "    return path_actions(node.parent) + [node.action]"
      ],
      "execution_count": null,
      "outputs": []
    },
    {
      "cell_type": "code",
      "source": [
        "def solve(initial, goal, n, m, c):\n",
        "  '''\n",
        "  initial: tupla representando el estado inicial de la forma (tb, sb, side).\n",
        "            tb es el número de Tallbots en el lado izquierdo, sb el número\n",
        "            de Smallbots en el lado izquierdo y side el lado en que se encuentra\n",
        "            el bote en el estado correspondiente, 0 significa que esta en\n",
        "            la izquierda y 1 en la derecha.\n",
        "  goal: tupla representando el estado objetivo, con la misma convención de\n",
        "  initial.\n",
        "  n: número total de Tallbots\n",
        "  m: número total de Smallbots\n",
        "  c: capacidad del bote\n",
        "\n",
        "  Returns: tupla (x, [...]), donde x es el tamaño de la solucion más corta y [...] es la\n",
        "  lista de acciones para solucionar el problema en x pasos. -1 si no existe solución.\n",
        "  '''\n",
        "  ### Your code goes here\n",
        "  '''problem = TBSBProblem(initial, goal, n, m, c)\n",
        "  node = Node(problem.initial)\n",
        "  print('node ',node)\n",
        "  if problem.is_goal(problem.initial):\n",
        "  #if initial == goal: #si hay problema revisemos esto con detalle\n",
        "      return node\n",
        "  frontier = FIFOQueue([node])\n",
        "  print(frontier)\n",
        "  reached = {problem.initial}\n",
        "  while frontier:\n",
        "      print('frontier ',frontier)\n",
        "      node = frontier.pop()\n",
        "      print('node: ',node)\n",
        "      for child in expand(problem, node):\n",
        "          s = child.state\n",
        "          print('child ',s)\n",
        "          if problem.is_goal(s):\n",
        "              return child\n",
        "          if s not in reached:\n",
        "              reached.add(s)\n",
        "              print('reached ', reached )\n",
        "              frontier.appendleft(child)\n",
        "              print('----------------------------')\n",
        "\n",
        "  return -1'''\n",
        "  problem = TBSBProblem(initial, goal, n, m, c)\n",
        "  node = breadth_first_search(problem)\n",
        "  if(node !=-1):\n",
        "    path = path_actions(node)\n",
        "    return (len(path), path)\n",
        "  else:\n",
        "    return -1\n"
      ],
      "metadata": {
        "id": "7AXEBKxMDGZl"
      },
      "execution_count": null,
      "outputs": []
    },
    {
      "cell_type": "code",
      "metadata": {
        "id": "ALQxMKvX2XUm",
        "colab": {
          "base_uri": "https://localhost:8080/"
        },
        "outputId": "06c7dfc5-3e88-4881-bad5-4a6ee699fe69"
      },
      "source": [
        "#TEST_CELL\n",
        "print(solve((1, 2, 1), (0, 0, 1), 1, 2, 2))\n",
        "print(solve((1, 2, 0), (0, 0, 1), 1, 2, 2))"
      ],
      "execution_count": null,
      "outputs": [
        {
          "output_type": "stream",
          "name": "stdout",
          "text": [
            "-1\n",
            "(5, [(0, 2), (0, 1), (1, 0), (0, 1), (0, 2)])\n"
          ]
        }
      ]
    },
    {
      "cell_type": "markdown",
      "metadata": {
        "id": "bgbUd_mbxPjh"
      },
      "source": [
        "## 3. Defina una función que retorne todas las soluciones de longitud minima posibles al problema\n",
        "\n",
        "**Entrada**\n",
        "Igual que el punto anterior\n",
        "\n",
        "**Salida**\n",
        "Su programa debe retornar el tamaño de las soluciones y una lista de listas (o tuplas) que representen las soluciones, si no existe ninguna solución retornar -1\n",
        "\n",
        "**Ejemplos**\n",
        "\n",
        "```python\n",
        ">> print(solve_all((2, 2, 0), (0, 0, 1), 2, 2, 2))\n",
        ">> (9, [[(0, 2), (0, 1), (1, 0), (0, 1), (0, 2), (0, 1), (1, 0), (0, 1), (0, 2)]])\n",
        "```\n",
        "------------\n",
        "```python\n",
        ">> print(solve_all((4, 4, 0), (0, 0, 1), 4, 4, 4))\n",
        "# Esta tiene 52 soluciones diferente. Se deben retornar todas.\n",
        ">> (7,\n",
        " [[(0, 3), (0, 1), (1, 2), (0, 1), (2, 0), (0, 1), (1, 2)],\n",
        "  [(0, 3), (0, 1), (2, 0), (0, 1), (2, 0), (0, 1), (0, 4)],\n",
        "  [(0, 4), (0, 1), (2, 0), (0, 1), (1, 2), (0, 1), (1, 1)],\n",
        "  [(0, 4), (0, 1), (2, 0), (0, 1), (1, 2), (1, 0), (2, 0)],\n",
        "  [(0, 4), (0, 1), (2, 0), (0, 1), (2, 0), (0, 1), (0, 3)]\n",
        "  ...\n",
        "  ...\n",
        "  ...])\n",
        "```"
      ]
    },
    {
      "cell_type": "code",
      "source": [
        "LIFOQueue = list\n",
        "def is_cycle(node, k=30):\n",
        "    \"Does this node form a cycle of length k or less?\"\n",
        "    def find_cycle(ancestor, k):\n",
        "        return (ancestor is not None and k > 0 and\n",
        "                (ancestor.state == node.state or find_cycle(ancestor.parent, k - 1)))\n",
        "    return find_cycle(node.parent, k)\n",
        "\n",
        "problem = y = TBSBProblem((4, 4, 0), (0, 0, 1), 4, 4, 4)\n",
        "##problem = y = TBSBProblem((2, 2, 0), (0, 0, 1), 2, 2, 2)\n",
        "def depth_limited_search(problem, limit=10):\n",
        "    \"Search deepest nodes in the search tree first.\"\n",
        "    frontier = LIFOQueue([Node(problem.initial)])\n",
        "    result = failure\n",
        "    paths = []\n",
        "    while frontier:\n",
        "        node = frontier.pop()\n",
        "        if problem.is_goal(node.state):\n",
        "            paths.append(node)\n",
        "        elif len(node) >= limit:\n",
        "            result = cutoff\n",
        "        elif not is_cycle(node):\n",
        "            for child in expand(problem, node):\n",
        "                frontier.append(child)\n",
        "    if len(paths) != 0:\n",
        "      result = paths\n",
        "    return result"
      ],
      "metadata": {
        "id": "XL66lEB7DOPo"
      },
      "execution_count": null,
      "outputs": []
    },
    {
      "cell_type": "code",
      "metadata": {
        "id": "fJTb_Q8fxOew"
      },
      "source": [
        "def solve_all(initial, goal, n, m, c):\n",
        "  '''\n",
        "  initial: tupla representando el estado inicial de la forma (tb, sb, side).\n",
        "            tb es el número de Tallbots en el lado izquierdo, sb el número\n",
        "            de Smallbots en el lado izquierdo y side el lado en que se encuentra\n",
        "            el bote en el estado correspondiente, 0 significa que esta en\n",
        "            la izquierda y 1 en la derecha.\n",
        "  goal: tupla representando el estado objetivo, con la misma convención de\n",
        "  initial.\n",
        "  n: número total de Tallbots\n",
        "  m: número total de Smallbots\n",
        "  c: capacidad del bote\n",
        "\n",
        "  Returns: tupla (x, [[...], ...]) donde x es el tamaño de la solución más corta\n",
        "  y [[...], ...] es una lista de listas con todas las soluciones al problema de\n",
        "   longitud x. Si no existe solución retornar -1.\n",
        "  '''\n",
        "  ### Your code goes here\n",
        "  q = None\n",
        "  sol = []\n",
        "  iteracion = 0\n",
        "  for i in range (0,20):\n",
        "    q = depth_limited_search(problem, i)\n",
        "    if type(q) == list:\n",
        "      iteracion = i\n",
        "      break\n",
        "  if type(q) == list:\n",
        "    for i in q:\n",
        "      sol.append(path_actions(i))\n",
        "  soluciones = (iteracion,sol)\n",
        "  return tuple(soluciones)"
      ],
      "execution_count": null,
      "outputs": []
    },
    {
      "cell_type": "code",
      "metadata": {
        "id": "NuXtJS0wfXwL",
        "colab": {
          "base_uri": "https://localhost:8080/"
        },
        "outputId": "415f94fb-743c-4ac6-e86d-124902fa10be"
      },
      "source": [
        "#TEST_CELL\n",
        "print(solve_all((4, 4, 0), (0, 0, 1), 4, 4, 4))"
      ],
      "execution_count": null,
      "outputs": [
        {
          "output_type": "stream",
          "name": "stdout",
          "text": [
            "(7, [[(2, 0), (1, 0), (1, 2), (0, 1), (2, 0), (0, 1), (0, 4)], [(2, 0), (1, 0), (1, 2), (0, 1), (1, 2), (0, 1), (1, 2)], [(2, 0), (1, 0), (0, 4), (0, 1), (2, 0), (0, 1), (1, 2)], [(1, 2), (1, 0), (2, 0), (0, 1), (2, 0), (0, 1), (0, 4)], [(1, 2), (1, 0), (2, 0), (0, 1), (1, 2), (0, 1), (1, 2)], [(1, 2), (1, 0), (1, 2), (0, 1), (2, 0), (0, 1), (1, 2)], [(1, 2), (0, 2), (1, 2), (0, 1), (2, 0), (0, 1), (0, 4)], [(1, 2), (0, 2), (1, 2), (0, 1), (1, 2), (0, 1), (1, 2)], [(1, 2), (0, 2), (0, 4), (0, 1), (2, 0), (0, 1), (1, 2)], [(1, 2), (0, 1), (2, 0), (1, 0), (2, 0), (0, 1), (0, 4)], [(1, 2), (0, 1), (2, 0), (1, 0), (1, 2), (0, 1), (1, 2)], [(1, 2), (0, 1), (2, 0), (0, 1), (1, 2), (1, 0), (1, 2)], [(1, 2), (0, 1), (2, 0), (0, 1), (1, 2), (0, 2), (0, 4)], [(1, 2), (0, 1), (2, 0), (0, 1), (1, 2), (0, 1), (0, 3)], [(1, 2), (0, 1), (2, 0), (0, 1), (1, 1), (0, 1), (0, 4)], [(1, 2), (0, 1), (2, 0), (0, 1), (0, 4), (1, 0), (2, 0)], [(1, 2), (0, 1), (2, 0), (0, 1), (0, 4), (0, 2), (1, 2)], [(1, 2), (0, 1), (2, 0), (0, 1), (0, 4), (0, 1), (1, 1)], [(1, 2), (0, 1), (2, 0), (0, 1), (0, 3), (0, 1), (1, 2)], [(1, 2), (0, 1), (1, 2), (1, 0), (2, 0), (0, 1), (1, 2)], [(1, 2), (0, 1), (1, 2), (0, 2), (2, 0), (0, 1), (0, 4)], [(1, 2), (0, 1), (1, 2), (0, 2), (1, 2), (0, 1), (1, 2)], [(1, 2), (0, 1), (1, 2), (0, 1), (2, 0), (1, 0), (1, 2)], [(1, 2), (0, 1), (1, 2), (0, 1), (2, 0), (0, 2), (0, 4)], [(1, 2), (0, 1), (1, 2), (0, 1), (2, 0), (0, 1), (0, 3)], [(1, 2), (0, 1), (1, 2), (0, 1), (1, 2), (1, 0), (2, 0)], [(1, 2), (0, 1), (1, 2), (0, 1), (1, 2), (0, 2), (1, 2)], [(1, 2), (0, 1), (1, 2), (0, 1), (1, 2), (0, 1), (1, 1)], [(1, 2), (0, 1), (1, 2), (0, 1), (1, 1), (0, 1), (1, 2)], [(1, 2), (0, 1), (1, 1), (0, 1), (2, 0), (0, 1), (0, 4)], [(1, 2), (0, 1), (1, 1), (0, 1), (1, 2), (0, 1), (1, 2)], [(1, 2), (0, 1), (0, 3), (0, 1), (2, 0), (0, 1), (1, 2)], [(1, 1), (0, 1), (1, 2), (0, 1), (2, 0), (0, 1), (0, 4)], [(1, 1), (0, 1), (1, 2), (0, 1), (1, 2), (0, 1), (1, 2)], [(1, 1), (0, 1), (0, 4), (0, 1), (2, 0), (0, 1), (1, 2)], [(0, 4), (0, 2), (2, 0), (0, 1), (2, 0), (0, 1), (0, 4)], [(0, 4), (0, 2), (2, 0), (0, 1), (1, 2), (0, 1), (1, 2)], [(0, 4), (0, 2), (1, 2), (0, 1), (2, 0), (0, 1), (1, 2)], [(0, 4), (0, 1), (2, 0), (1, 0), (2, 0), (0, 1), (1, 2)], [(0, 4), (0, 1), (2, 0), (0, 2), (2, 0), (0, 1), (0, 4)], [(0, 4), (0, 1), (2, 0), (0, 2), (1, 2), (0, 1), (1, 2)], [(0, 4), (0, 1), (2, 0), (0, 1), (2, 0), (1, 0), (1, 2)], [(0, 4), (0, 1), (2, 0), (0, 1), (2, 0), (0, 2), (0, 4)], [(0, 4), (0, 1), (2, 0), (0, 1), (2, 0), (0, 1), (0, 3)], [(0, 4), (0, 1), (2, 0), (0, 1), (1, 2), (1, 0), (2, 0)], [(0, 4), (0, 1), (2, 0), (0, 1), (1, 2), (0, 2), (1, 2)], [(0, 4), (0, 1), (2, 0), (0, 1), (1, 2), (0, 1), (1, 1)], [(0, 4), (0, 1), (2, 0), (0, 1), (1, 1), (0, 1), (1, 2)], [(0, 4), (0, 1), (1, 1), (0, 1), (2, 0), (0, 1), (1, 2)], [(0, 3), (0, 1), (2, 0), (0, 1), (2, 0), (0, 1), (0, 4)], [(0, 3), (0, 1), (2, 0), (0, 1), (1, 2), (0, 1), (1, 2)], [(0, 3), (0, 1), (1, 2), (0, 1), (2, 0), (0, 1), (1, 2)]])\n"
          ]
        }
      ]
    }
  ]
}