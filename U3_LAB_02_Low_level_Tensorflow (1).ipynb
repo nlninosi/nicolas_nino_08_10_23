{
  "cells": [
    {
      "cell_type": "markdown",
      "metadata": {
        "id": "cW4ObKaoBhU6"
      },
      "source": [
        "# LAB 3.2 - Low level `tensorflow`"
      ]
    },
    {
      "cell_type": "code",
      "execution_count": null,
      "metadata": {
        "id": "xa-44Ek0BhVA",
        "colab": {
          "base_uri": "https://localhost:8080/",
          "height": 17
        },
        "outputId": "243625d5-4fc6-49b0-89f3-fa3b4cd62c6d"
      },
      "outputs": [
        {
          "output_type": "display_data",
          "data": {
            "text/plain": [
              "<IPython.core.display.HTML object>"
            ],
            "text/html": [
              "\n",
              "<meta name=\"google-signin-client_id\"\n",
              "      content=\"461673936472-kdjosv61up3ac1ajeuq6qqu72upilmls.apps.googleusercontent.com\"/>\n",
              "<script src=\"https://apis.google.com/js/client:platform.js?onload=google_button_start\"></script>\n",
              "    "
            ]
          },
          "metadata": {}
        }
      ],
      "source": [
        "!wget -nc --no-cache -O init.py -q https://raw.githubusercontent.com/rramosp/2021.deeplearning/main/content/init.py\n",
        "import init; init.init(force_download=False);"
      ]
    },
    {
      "cell_type": "code",
      "execution_count": null,
      "metadata": {
        "scrolled": true,
        "id": "U1AYDKBfBhVC",
        "colab": {
          "base_uri": "https://localhost:8080/",
          "height": 138,
          "referenced_widgets": [
            "2b366df04db84c92b2bd091209263b23",
            "5d5410f297f64bed93fa97f65c044087",
            "0e8d910e82524efea37aedf04424df93",
            "4507e923a4194705b4a2f95306279d14",
            "f4131bc7e38b42ccb5e1521b004045e4",
            "72162668c69c45629fe28e6581c33405",
            "af114adbf3684d55a02728f9eadd2b55",
            "2fd4760be13848e8a99fdd773fd0a941",
            "4e55e0ebf3ff443a9ee7025af7a22c2d",
            "ad772913b63b4880b8faad5c17efd285",
            "e6003d2580844203931f4315d0b338f3",
            "b2f2d601f59444fa9ff8723254505e5e",
            "ae11d82bff5543a489d65546f596312d",
            "1f6814535fe7464bace23851f4a8e2c5",
            "61ab5021609b4e0c8a4b795692922fcc",
            "d37e390a7ff64f4f837629bed5f00984",
            "95070a55704342628bbbad2447a98b8e",
            "bdbc5462d7534c75b5d7357984001b09",
            "4e29efc226ee43a1a5c3e33517ecfcde"
          ]
        },
        "outputId": "1119db3d-2748-4c97-d57b-a8bec760a4b3"
      },
      "outputs": [
        {
          "output_type": "stream",
          "name": "stdout",
          "text": [
            "logging in as nlninosi@unal.edu.co... please wait\n",
            "using course session deeplearning.unal::intro_si_2022_2\n",
            "success!! you are logged in\n"
          ]
        }
      ],
      "source": [
        "from local.lib.rlxmoocapi import submit, session\n",
        "import inspect\n",
        "session.LoginSequence(endpoint=init.endpoint, course_id=init.course_id, lab_id=\"L03.02\", varname=\"student\");"
      ]
    },
    {
      "cell_type": "code",
      "execution_count": null,
      "metadata": {
        "id": "5YVmNmmZBhVD",
        "colab": {
          "base_uri": "https://localhost:8080/",
          "height": 36
        },
        "outputId": "146714c8-fd36-4792-bfb9-3b34a018d18f"
      },
      "outputs": [
        {
          "output_type": "execute_result",
          "data": {
            "text/plain": [
              "'2.8.0'"
            ],
            "application/vnd.google.colaboratory.intrinsic+json": {
              "type": "string"
            }
          },
          "metadata": {},
          "execution_count": 3
        }
      ],
      "source": [
        "import numpy as np\n",
        "import os\n",
        "import tensorflow as tf\n",
        "from tensorflow.keras.models import Model, Sequential\n",
        "from tensorflow.keras.layers import Dense, BatchNormalization\n",
        "\n",
        "tf.__version__"
      ]
    },
    {
      "cell_type": "markdown",
      "metadata": {
        "id": "Diq954LjBhVE"
      },
      "source": [
        "## TASK 1: Obtain layer output\n"
      ]
    },
    {
      "cell_type": "markdown",
      "metadata": {
        "id": "igFcKLR5BhVF"
      },
      "source": [
        "**COMPLETE** the following function so that, when given a TF `model` and input  `X` returns the output of the model at layer `layer_name` when feeding `X` to the model.\n",
        "\n",
        "\n",
        "You **MUST RETURN** a `numpy` array, **NOT** a tensor.\n",
        "\n",
        "**HINT**: Use the [`tf.keras.Model`](https://www.tensorflow.org/api_docs/python/tf/keras/Model) class like in the functional API with `outputs` from the desired layer.\n",
        "\n",
        "**CHALLENGE**: Solve it with a single line of code (not counting the `import`)"
      ]
    },
    {
      "cell_type": "code",
      "execution_count": null,
      "metadata": {
        "id": "-Q1D8oSEBhVG"
      },
      "outputs": [],
      "source": [
        "def output_at_layer(X, model, layer_name):\n",
        "    from tensorflow.keras.models import Model\n",
        "    #r = model.get_layer(name=layer_name)(X)\n",
        "    #r = r.numpy()\n",
        "    #print(r)\n",
        "    #r = ... # YOUR CODE HERE\n",
        "    #print(model.summary())\n",
        "    capas = model.layers\n",
        "    #print('capas: ',capas[0].name)\n",
        "    #print('X: ', X, ' shape: ',X.shape)\n",
        "    #out = model.get_layer(name=\"layer_A\")(X).numpy()\n",
        "    #r = model.get_layer(name=layer_name)(out).numpy()\n",
        "    for i in range(len(capas)):\n",
        "      if(i == 0):\n",
        "        out = model.get_layer(name=capas[i].name)(X).numpy()\n",
        "      else:\n",
        "        out = model.get_layer(name=capas[i].name)(out).numpy()\n",
        "      if(capas[i].name == layer_name):\n",
        "        return out"
      ]
    },
    {
      "cell_type": "markdown",
      "metadata": {
        "id": "rx-swnmyBhVG"
      },
      "source": [
        "check your answer manually. With the following model and weights below you should get this answer:\n",
        "\n",
        "\n",
        "        >> output_at_layer(X, model, \"layer_A\")\n",
        "        array([[0.91274303, 0.69886017, 0.8832942 ],\n",
        "               [0.9311633 , 0.7634138 , 0.8924969 ],\n",
        "               [0.85661894, 0.5696809 , 0.8091405 ],\n",
        "               [0.8952345 , 0.6803274 , 0.8326857 ]], dtype=float32)\n",
        "\n",
        "        >> output_at_layer(X, model, \"layer_B\")\n",
        "        array([[0.87063193, 0.8240411 ],\n",
        "               [0.8774254 , 0.83376545],\n",
        "               [0.84875023, 0.7963983 ],\n",
        "               [0.86286545, 0.81590414]], dtype=float32)\n",
        "\n",
        "        >> output_at_layer(X, model, \"layer_C\")\n",
        "        array([[0.8959839 , 0.65980244],\n",
        "               [0.9032545 , 0.66435313],\n",
        "               [0.8733646 , 0.646801  ],\n",
        "               [0.8883195 , 0.6559416 ]], dtype=float32)"
      ]
    },
    {
      "cell_type": "code",
      "execution_count": null,
      "metadata": {
        "id": "jRxih3uUBhVH"
      },
      "outputs": [],
      "source": [
        "def get_model(n1,n2,n3):\n",
        "    model = Sequential()\n",
        "    model.add(Dense(n1, name=\"layer_A\", activation=\"tanh\", input_dim=2))\n",
        "    model.add(Dense(n2, name=\"layer_B\", activation=\"sigmoid\"))\n",
        "    model.add(Dense(n3, name=\"layer_C\", activation=\"linear\"))\n",
        "    return model\n",
        "\n",
        "\n",
        "w = [np.array([[0.3336241 , 0.26024526, 0.37238857],\n",
        "               [0.6344426 , 0.67660165, 0.31070882]], dtype=np.float32),\n",
        "     np.array([0.97280777, 0.3447949 , 0.91722184], dtype=np.float32),\n",
        "\n",
        "     np.array([[0.12999585, 0.31851983],\n",
        "               [0.7763866 , 0.8777575 ],\n",
        "               [0.99977154, 0.65771514]], dtype=np.float32),\n",
        "     np.array([0.36222705, 0.05885772], dtype=np.float32),\n",
        "\n",
        "     np.array([[0.75918376, 0.02541249],\n",
        "               [0.21730722, 0.45021895]], dtype=np.float32),\n",
        "     np.array([0.05594416, 0.26667854], dtype=np.float32)]\n",
        "\n",
        "\n",
        "X = np.array([[0.9269997 , 0.41239464],\n",
        "              [0.8461177 , 0.64935404],\n",
        "              [0.27092433, 0.34251866],\n",
        "              [0.22509325, 0.6301328 ]], dtype=np.float32)\n",
        "\n",
        "\n",
        "model=get_model(3,2,2)\n",
        "model.set_weights(w)"
      ]
    },
    {
      "cell_type": "code",
      "execution_count": null,
      "metadata": {
        "id": "z_OAJhBYBhVI",
        "colab": {
          "base_uri": "https://localhost:8080/"
        },
        "outputId": "8bf87e44-e6b0-49f4-f1ee-5bc66ca631ca"
      },
      "outputs": [
        {
          "output_type": "execute_result",
          "data": {
            "text/plain": [
              "array([[0.9127429 , 0.69886017, 0.8832942 ],\n",
              "       [0.9311633 , 0.7634138 , 0.8924968 ],\n",
              "       [0.8566188 , 0.5696809 , 0.8091404 ],\n",
              "       [0.89523464, 0.6803274 , 0.8326857 ]], dtype=float32)"
            ]
          },
          "metadata": {},
          "execution_count": 6
        }
      ],
      "source": [
        "output_at_layer(X, model, \"layer_A\")"
      ]
    },
    {
      "cell_type": "code",
      "execution_count": null,
      "metadata": {
        "id": "8P0rXkuxBhVI",
        "colab": {
          "base_uri": "https://localhost:8080/"
        },
        "outputId": "c0c34cb3-ef8f-481c-9827-acba631ed713"
      },
      "outputs": [
        {
          "output_type": "execute_result",
          "data": {
            "text/plain": [
              "array([[0.912743  , 0.69886017, 0.88329417],\n",
              "       [0.9311634 , 0.7634138 , 0.89249694],\n",
              "       [0.8566189 , 0.5696809 , 0.8091404 ],\n",
              "       [0.89523464, 0.6803274 , 0.8326857 ]], dtype=float32)"
            ]
          },
          "metadata": {},
          "execution_count": 7
        }
      ],
      "source": [
        "# which corresponds to a tanh activation from the input data\n",
        "np.tanh(X.dot(w[0])+w[1])"
      ]
    },
    {
      "cell_type": "code",
      "execution_count": null,
      "metadata": {
        "id": "_iKBtD62BhVJ",
        "colab": {
          "base_uri": "https://localhost:8080/"
        },
        "outputId": "59234c13-f122-4bac-d234-9b1be0232bfe"
      },
      "outputs": [
        {
          "output_type": "execute_result",
          "data": {
            "text/plain": [
              "array([[0.87063193, 0.8240411 ],\n",
              "       [0.8774254 , 0.83376545],\n",
              "       [0.84875023, 0.7963983 ],\n",
              "       [0.86286545, 0.81590414]], dtype=float32)"
            ]
          },
          "metadata": {},
          "execution_count": 8
        }
      ],
      "source": [
        "output_at_layer(X, model, \"layer_B\")"
      ]
    },
    {
      "cell_type": "code",
      "execution_count": null,
      "metadata": {
        "id": "0sVpH5shBhVJ",
        "colab": {
          "base_uri": "https://localhost:8080/"
        },
        "outputId": "d6b37f62-e933-4432-8f8b-d5fef95a6b89"
      },
      "outputs": [
        {
          "output_type": "execute_result",
          "data": {
            "text/plain": [
              "array([[0.870632  , 0.82404107],\n",
              "       [0.8774254 , 0.8337655 ],\n",
              "       [0.8487502 , 0.7963982 ],\n",
              "       [0.86286545, 0.81590414]], dtype=float32)"
            ]
          },
          "metadata": {},
          "execution_count": 9
        }
      ],
      "source": [
        "# which corresponds to a sigmoid activation from the output of layer A\n",
        "sigm = lambda x: 1/(1+np.exp(-x))\n",
        "sigm(output_at_layer(X, model, \"layer_A\").dot(w[2])+w[3])\n"
      ]
    },
    {
      "cell_type": "code",
      "execution_count": null,
      "metadata": {
        "id": "LNYu9iNdBhVJ",
        "colab": {
          "base_uri": "https://localhost:8080/"
        },
        "outputId": "e6b259ce-0c05-4098-df21-2e758b36f649"
      },
      "outputs": [
        {
          "output_type": "execute_result",
          "data": {
            "text/plain": [
              "array([[0.8959839 , 0.6598024 ],\n",
              "       [0.90325445, 0.66435313],\n",
              "       [0.8733646 , 0.646801  ],\n",
              "       [0.8883195 , 0.6559416 ]], dtype=float32)"
            ]
          },
          "metadata": {},
          "execution_count": 10
        }
      ],
      "source": [
        "output_at_layer(X, model, \"layer_C\")"
      ]
    },
    {
      "cell_type": "code",
      "execution_count": null,
      "metadata": {
        "id": "HvT0iwt8BhVK",
        "colab": {
          "base_uri": "https://localhost:8080/"
        },
        "outputId": "f00586f3-36b5-4b5e-a053-cf5028b761e8"
      },
      "outputs": [
        {
          "output_type": "execute_result",
          "data": {
            "text/plain": [
              "array([[0.8959839 , 0.65980244],\n",
              "       [0.9032545 , 0.66435313],\n",
              "       [0.8733646 , 0.646801  ],\n",
              "       [0.8883195 , 0.6559416 ]], dtype=float32)"
            ]
          },
          "metadata": {},
          "execution_count": 11
        }
      ],
      "source": [
        "# which corresponds to a linear activation from the output of layer B\n",
        "output_at_layer(X, model, \"layer_B\").dot(w[-2])+w[-1]"
      ]
    },
    {
      "cell_type": "markdown",
      "metadata": {
        "id": "uI8e0EPHBhVK"
      },
      "source": [
        "**Registra tu solución en linea**"
      ]
    },
    {
      "cell_type": "code",
      "execution_count": null,
      "metadata": {
        "scrolled": false,
        "id": "rr37svkzBhVK",
        "colab": {
          "base_uri": "https://localhost:8080/",
          "height": 128
        },
        "outputId": "1395e0de-bc2d-4098-ceac-0bf82a847d01"
      },
      "outputs": [
        {
          "output_type": "display_data",
          "data": {
            "text/plain": [
              "<IPython.core.display.HTML object>"
            ],
            "text/html": [
              "\n",
              "                    <b>T1 submitted.</b> <b><font color=\"blue\">your grade is 5</font></b> \n",
              "                    <p/><pre>----- grader message -------</pre>testing your code with 100 random calls<br/><b>correct</b><pre>----------------------------</pre>\n",
              "                    <p/><p/>\n",
              "                    <div style=\"font-size:10px\"><b>SUBMISSION CODE</b> ouhCqFNOSLynrrY6LktFYyfBN10K+3o7byT5/8r2D6ktTeKGjw9eOehoJ0ulTADwOq8k5b4fLoHjNB0NNlaqE/vB9yvII0LVlWQxbbdyIJc7h8KOS8jRzLXroKCkjXHK0EBY2XuVeaz261MvpzFQkjFPuJEdwRgi8sPIz2uMtMc=</div>\n",
              "                    "
            ]
          },
          "metadata": {}
        }
      ],
      "source": [
        "student.submit_task(namespace=globals(), task_id='T1');"
      ]
    },
    {
      "cell_type": "code",
      "execution_count": null,
      "metadata": {
        "id": "4fFE_3jtBhVL"
      },
      "outputs": [],
      "source": []
    },
    {
      "cell_type": "markdown",
      "metadata": {
        "id": "OR4WG1baBhVL"
      },
      "source": [
        "## TASK 2: Implement batch normalization\n",
        "\n",
        "Observe how we create a **ONE LAYER** model with **TANH** activation and batch normalization"
      ]
    },
    {
      "cell_type": "code",
      "execution_count": null,
      "metadata": {
        "id": "cwsMwT9eBhVL"
      },
      "outputs": [],
      "source": [
        "def get_model(input_dim, n):\n",
        "    model = Sequential()\n",
        "    model.add(Dense(n, name=\"layer_A\", activation=\"tanh\", input_dim=input_dim))\n",
        "    model.add(BatchNormalization())\n",
        "    return model"
      ]
    },
    {
      "cell_type": "markdown",
      "metadata": {
        "id": "bKgQswReBhVL"
      },
      "source": [
        "we manually initialize it with random weights and apply it to some random input"
      ]
    },
    {
      "cell_type": "code",
      "execution_count": null,
      "metadata": {
        "id": "Fxjw_8yNBhVL",
        "outputId": "f6adff2b-60fd-4237-a698-039e84af1b12",
        "colab": {
          "base_uri": "https://localhost:8080/"
        }
      },
      "outputs": [
        {
          "output_type": "stream",
          "name": "stdout",
          "text": [
            "input_dim 2 , n 5\n"
          ]
        }
      ],
      "source": [
        "\n",
        "input_dim = np.random.randint(3)+2\n",
        "n = np.random.randint(5)+5\n",
        "X = np.random.random((6,input_dim)).astype(np.float32)\n",
        "print (\"input_dim\", input_dim, \", n\", n)\n"
      ]
    },
    {
      "cell_type": "code",
      "execution_count": null,
      "metadata": {
        "id": "YLLAWXmBBhVO",
        "outputId": "39e2c7fd-d745-4327-8578-ec1e711e5456",
        "colab": {
          "base_uri": "https://localhost:8080/"
        }
      },
      "outputs": [
        {
          "output_type": "stream",
          "name": "stderr",
          "text": [
            "/usr/local/lib/python3.7/dist-packages/ipykernel_launcher.py:3: UserWarning: `layer.apply` is deprecated and will be removed in a future version. Please use `layer.__call__` method instead.\n",
            "  This is separate from the ipykernel package so we can avoid doing imports until\n"
          ]
        },
        {
          "output_type": "execute_result",
          "data": {
            "text/plain": [
              "array([[1.3516997 , 0.9295619 , 0.85480154, 1.7372286 , 1.2785345 ],\n",
              "       [1.201715  , 0.89674926, 0.82503486, 1.6586955 , 1.2327849 ],\n",
              "       [1.4232063 , 0.928784  , 0.8511015 , 1.766853  , 1.291616  ],\n",
              "       [1.4265112 , 0.93263966, 0.85615164, 1.7708241 , 1.2941282 ],\n",
              "       [1.0656693 , 0.9263535 , 0.85842156, 1.6143761 , 1.2134855 ],\n",
              "       [1.3939527 , 0.9322027 , 0.85662514, 1.7568517 , 1.2880038 ]],\n",
              "      dtype=float32)"
            ]
          },
          "metadata": {},
          "execution_count": 14
        }
      ],
      "source": [
        "\n",
        "model = get_model(input_dim=input_dim, n=n)\n",
        "model.set_weights([np.random.random(i.shape) for i in model.get_weights()])\n",
        "model.apply(X).numpy()\n"
      ]
    },
    {
      "cell_type": "markdown",
      "metadata": {
        "id": "4hQXBxGqBhVO"
      },
      "source": [
        "and we can extract the weights of the dense layer and the batch normalization layer"
      ]
    },
    {
      "cell_type": "code",
      "execution_count": null,
      "metadata": {
        "id": "it4-6oRwBhVO",
        "outputId": "63facb6c-c4ce-46fe-c168-b84339862b61",
        "colab": {
          "base_uri": "https://localhost:8080/"
        }
      },
      "outputs": [
        {
          "output_type": "execute_result",
          "data": {
            "text/plain": [
              "((2, 5), (5,), (5,), (5,), (5,))"
            ]
          },
          "metadata": {},
          "execution_count": 15
        }
      ],
      "source": [
        "\n",
        "W, b, gamma, beta, moving_mean, moving_var = model.get_weights()\n",
        "W.shape, b.shape, beta.shape, moving_mean.shape, moving_var.shape\n"
      ]
    },
    {
      "cell_type": "markdown",
      "metadata": {
        "id": "iHh8DHQ0BhVO"
      },
      "source": [
        "**COMPLETE** the following function **WITHOUT USING TENSORFLOW** such that you get the same output as the model above, given the input and the weights.\n",
        "\n",
        "In specific, the Dense layer output must be\n",
        "\n",
        "$$A = \\text{tanh}(XW+b)$$\n",
        "\n",
        "And the batch normalization layer after that output is\n",
        "\n",
        "$$\\frac{A-m_\\mu}{\\sqrt{m_\\sigma+\\varepsilon}}\\gamma + \\beta$$\n",
        "\n",
        "You **MUST RETURN** a `numpy` array, **NOT** a tensor.\n",
        "\n",
        "**CHALLENGE**: Solve it with one single line of Python code."
      ]
    },
    {
      "cell_type": "code",
      "execution_count": null,
      "metadata": {
        "id": "ahedcPdCBhVO"
      },
      "outputs": [],
      "source": [
        "def apply_model(X, W, b, gamma, beta, moving_mean, moving_var, epsilon=1e-3):\n",
        "    #r = ... # YOUR CODE HERE\n",
        "    #print(type(moving_mean))\n",
        "\n",
        "    A = np.tanh(np.dot(X,W)+b)\n",
        "    numerador = np.subtract(A,moving_mean)\n",
        "    denominador = np.sqrt(moving_var+epsilon)\n",
        "    fraccion = np.divide(numerador,denominador)\n",
        "    r = np.add((fraccion* gamma),beta)\n",
        "    #print(r)\n",
        "    return r"
      ]
    },
    {
      "cell_type": "markdown",
      "metadata": {
        "id": "Ry74TuUoBhVO"
      },
      "source": [
        "check manually your code, the output should be the same as above."
      ]
    },
    {
      "cell_type": "code",
      "execution_count": null,
      "metadata": {
        "id": "KmS2NaTdBhVO",
        "colab": {
          "base_uri": "https://localhost:8080/"
        },
        "outputId": "b7d7de78-09e4-49df-a591-5cc456209d70"
      },
      "outputs": [
        {
          "output_type": "execute_result",
          "data": {
            "text/plain": [
              "array([[1.3516996 , 0.9295619 , 0.85480154, 1.7372286 , 1.2785345 ],\n",
              "       [1.201715  , 0.89674926, 0.82503486, 1.6586955 , 1.2327849 ],\n",
              "       [1.4232063 , 0.92878395, 0.8511016 , 1.7668529 , 1.2916158 ],\n",
              "       [1.426511  , 0.93263966, 0.85615164, 1.770824  , 1.2941282 ],\n",
              "       [1.0656694 , 0.9263535 , 0.85842156, 1.6143761 , 1.2134854 ],\n",
              "       [1.3939527 , 0.9322027 , 0.85662514, 1.7568517 , 1.2880038 ]],\n",
              "      dtype=float32)"
            ]
          },
          "metadata": {},
          "execution_count": 17
        }
      ],
      "source": [
        "apply_model(X, W, b, gamma, beta, moving_mean, moving_var)"
      ]
    },
    {
      "cell_type": "markdown",
      "metadata": {
        "id": "AwFfk6ieBhVP"
      },
      "source": [
        "**Registra tu solución en linea**"
      ]
    },
    {
      "cell_type": "code",
      "execution_count": null,
      "metadata": {
        "scrolled": false,
        "id": "p_eJd_bdBhVP",
        "colab": {
          "base_uri": "https://localhost:8080/",
          "height": 128
        },
        "outputId": "f7b4199f-94ff-4539-f08f-1b3b7d8ddaae"
      },
      "outputs": [
        {
          "output_type": "display_data",
          "data": {
            "text/plain": [
              "<IPython.core.display.HTML object>"
            ],
            "text/html": [
              "\n",
              "                    <b>T2 submitted.</b> <b><font color=\"blue\">your grade is 5</font></b> \n",
              "                    <p/><pre>----- grader message -------</pre>testing your code with 100 random calls<br/><b>correct</b><pre>----------------------------</pre>\n",
              "                    <p/><p/>\n",
              "                    <div style=\"font-size:10px\"><b>SUBMISSION CODE</b> yjdTTKaiTU4ljJAlvp6L2rdgvN7oD+hqNCb+rZfxDpkh+8jRZOMVPWPaXOc6k8gH07cRrmaqG2nDhUiyyHf/wmr+DauaVQStVDqhDJPgj5ZsTOkHN0pDgG3+gFQc6sSdP0v5AKToTclyzKSqsIbBg6Rc0wupKgwZ4E+8dCJ2o+w=</div>\n",
              "                    "
            ]
          },
          "metadata": {}
        }
      ],
      "source": [
        "student.submit_task(namespace=globals(), task_id='T2');"
      ]
    },
    {
      "cell_type": "code",
      "execution_count": null,
      "metadata": {
        "id": "G-xYN7cZBhVP"
      },
      "outputs": [],
      "source": []
    },
    {
      "cell_type": "code",
      "execution_count": null,
      "metadata": {
        "id": "GpR9adKHBhVP"
      },
      "outputs": [],
      "source": []
    },
    {
      "cell_type": "markdown",
      "metadata": {
        "id": "dRNPlr5BBhVP"
      },
      "source": [
        "## TASK 3: Compute the Hessian\n",
        "\n",
        "Complete the function below so that computes the Hessian of a function with respect to a set of variables. Remember that the Hessian is the matrix with all combinations of double partial derivatives. See [https://en.wikipedia.org/wiki/Hessian_matrix](https://en.wikipedia.org/wiki/Hessian_matrix)\n",
        "\n",
        "\n",
        "The arguments for your code below:\n",
        "\n",
        "- `expression_fn`: is a Python function that, when executed, will return a Tensor depending on the variables in `svars`.\n",
        "- `svars`: a list of $n$ `tf.Variable`s against which  the derivatives are to be taken.\n",
        "\n",
        "The result:\n",
        "\n",
        "- a `numpy` array of dimension $n\\times n$, containing in each position the value of the corresponding double derivative evaluated with the value attached to each variable in `svars`.\n",
        "\n",
        "See the example call below to understand what you have to produce.\n",
        "\n",
        "**NOTE**: Observe that `expression_fn` is a function that you **must call** inside some `GradientTape` to obtain the expresion. This needs to be done this way because `GradientTape` needs to _watch_ how expressions are built to be able to access the computational graph and compute the gradient. This is a technique which is very often used in Tensorflow.\n",
        "\n",
        "\n",
        "\n",
        "**WARN**: You cannot use `tf.hessian` or `GradientTape.jacobian` or `sympy`. Do not use the name `hessian` to name any variable within your code.\n",
        "\n",
        "**HINT 1**: use a `GradientTape` inside another `GradientTape`.\n",
        "\n",
        "**HINT 2**: use `unconnected_gradients=tf.UnconnectedGradients.ZERO` as argument to `GradientTape.gradient` to have the variables not participating in an expresion result in gradient zero. For instance with $f=xy$, we have $\\frac{\\partial f}{\\partial y\\partial y}=0$, since $\\frac{\\partial f}{\\partial y}=1$. Or if we have $f=x$ we have $\\frac{\\partial f}{\\partial y\\partial x}=0$, since $\\frac{\\partial f}{\\partial y}=0$. If you do not include this argument, Tensorflow will return these values as `None` and you would have to fix them later."
      ]
    },
    {
      "cell_type": "code",
      "execution_count": null,
      "metadata": {
        "id": "IL3hSEADBhVP"
      },
      "outputs": [],
      "source": [
        "def get_double_derivatives(expression_fn,svars):\n",
        "    import tensorflow as tf\n",
        "    result = []\n",
        "    for var1 in svars:\n",
        "      row = []\n",
        "      for var2 in svars:\n",
        "        with tf.GradientTape(persistent=True) as t1:\n",
        "          with tf.GradientTape(persistent=True) as t2:\n",
        "            f = expression_fn()\n",
        "          d1 = t2.gradient(f,var1,unconnected_gradients=tf.UnconnectedGradients.ZERO)\n",
        "        d2 = t1.gradient(d1,var2,unconnected_gradients=tf.UnconnectedGradients.ZERO)\n",
        "        row.append(d2.numpy())\n",
        "      result.append(row)\n",
        "    return np.array(result)\n",
        ""
      ]
    },
    {
      "cell_type": "markdown",
      "metadata": {
        "id": "mwrQ72bRBhVP"
      },
      "source": [
        "check your code. The following expression\n",
        "\n",
        "$$f = 2xy^2 + 3x\\cos{y}$$\n",
        "\n",
        "has as first derivatives:\n",
        "\n",
        "- $\\frac{\\partial f }{\\partial x} = 2y^2 +3\\cos{y}$\n",
        "- $\\frac{\\partial f }{\\partial y} = 4xy - 3x\\sin{y}$\n",
        "\n",
        "and as second derivatives:\n",
        "\n",
        "- $\\frac{\\partial f }{\\partial x \\partial x} = 0$\n",
        "- $\\frac{\\partial f }{\\partial x \\partial y} = 4y - 3\\sin{y}$\n",
        "- $\\frac{\\partial f }{\\partial y \\partial x} = 4y - 3\\sin{y}$\n",
        "- $\\frac{\\partial f }{\\partial y \\partial y} = 4x - 3x\\cos{y}$\n",
        "\n",
        "which, when evaluated at $x=2$ and $y=-3$ yields\n",
        "\n",
        "    [[  0     ,  -11.58],\n",
        "     [ -11.58 ,   13.94]]"
      ]
    },
    {
      "cell_type": "code",
      "execution_count": null,
      "metadata": {
        "id": "c12Bn9kBBhVP",
        "colab": {
          "base_uri": "https://localhost:8080/"
        },
        "outputId": "29596a93-267a-4b50-f01c-b08b19ac7c90"
      },
      "outputs": [
        {
          "output_type": "execute_result",
          "data": {
            "text/plain": [
              "array([[  0.      , -11.57664 ],\n",
              "       [-11.57664 ,  13.939955]], dtype=float32)"
            ]
          },
          "metadata": {},
          "execution_count": 20
        }
      ],
      "source": [
        "x = tf.Variable(2, dtype=tf.float32)\n",
        "y = tf.Variable(-3, dtype=tf.float32)\n",
        "expr = lambda: 2*x*y**2 + 3*x*tf.cos(y)\n",
        "\n",
        "get_double_derivatives(expr, [x,y])"
      ]
    },
    {
      "cell_type": "code",
      "execution_count": null,
      "metadata": {
        "id": "fIfrHlmsBhVP"
      },
      "outputs": [],
      "source": []
    },
    {
      "cell_type": "markdown",
      "metadata": {
        "id": "tRTuwpPVBhVQ"
      },
      "source": [
        "**Registra tu solución en linea**"
      ]
    },
    {
      "cell_type": "code",
      "execution_count": null,
      "metadata": {
        "scrolled": false,
        "id": "JVLon0PtBhVQ",
        "colab": {
          "base_uri": "https://localhost:8080/",
          "height": 128
        },
        "outputId": "64695efb-ba59-447a-a485-40f0cd59d41f"
      },
      "outputs": [
        {
          "output_type": "display_data",
          "data": {
            "text/plain": [
              "<IPython.core.display.HTML object>"
            ],
            "text/html": [
              "\n",
              "                    <b>T3 submitted.</b> <b><font color=\"blue\">your grade is 5</font></b> \n",
              "                    <p/><pre>----- grader message -------</pre>testing your code with 100 random calls<br/><b>correct</b><pre>----------------------------</pre>\n",
              "                    <p/><p/>\n",
              "                    <div style=\"font-size:10px\"><b>SUBMISSION CODE</b> C3JEVfTIhRncYdqaWUEaj6BtLoC55PySrjKLq4GraV+ys6CS2WmlDQM3q3Lx2yXYuEVpbwNBkXzzg1vIlX00dAUvMKPiIrCQlAk9x57BMNnqiIahRYKBPlJJf9QANc8xzKcawaDt/Wnq0KpInXi7gs3y/eYWUnFpjBjT5e2tvRo=</div>\n",
              "                    "
            ]
          },
          "metadata": {}
        }
      ],
      "source": [
        "student.submit_task(namespace=globals(), task_id='T3');"
      ]
    },
    {
      "cell_type": "code",
      "execution_count": null,
      "metadata": {
        "id": "FIsyXLDZBhVQ"
      },
      "outputs": [],
      "source": []
    },
    {
      "cell_type": "code",
      "execution_count": null,
      "metadata": {
        "id": "8tMRx-TgBhVQ"
      },
      "outputs": [],
      "source": []
    }
  ],
  "metadata": {
    "kernelspec": {
      "display_name": "p38",
      "language": "python",
      "name": "p38"
    },
    "language_info": {
      "codemirror_mode": {
        "name": "ipython",
        "version": 3
      },
      "file_extension": ".py",
      "mimetype": "text/x-python",
      "name": "python",
      "nbconvert_exporter": "python",
      "pygments_lexer": "ipython3",
      "version": "3.8.5"
    },
    "colab": {
      "provenance": []
    },
    "widgets": {
      "application/vnd.jupyter.widget-state+json": {
        "2b366df04db84c92b2bd091209263b23": {
          "model_module": "@jupyter-widgets/controls",
          "model_name": "HBoxModel",
          "model_module_version": "1.5.0",
          "state": {
            "_dom_classes": [],
            "_model_module": "@jupyter-widgets/controls",
            "_model_module_version": "1.5.0",
            "_model_name": "HBoxModel",
            "_view_count": null,
            "_view_module": "@jupyter-widgets/controls",
            "_view_module_version": "1.5.0",
            "_view_name": "HBoxView",
            "box_style": "",
            "children": [
              "IPY_MODEL_5d5410f297f64bed93fa97f65c044087",
              "IPY_MODEL_0e8d910e82524efea37aedf04424df93",
              "IPY_MODEL_4507e923a4194705b4a2f95306279d14",
              "IPY_MODEL_f4131bc7e38b42ccb5e1521b004045e4"
            ],
            "layout": "IPY_MODEL_72162668c69c45629fe28e6581c33405"
          }
        },
        "5d5410f297f64bed93fa97f65c044087": {
          "model_module": "@jupyter-widgets/controls",
          "model_name": "VBoxModel",
          "model_module_version": "1.5.0",
          "state": {
            "_dom_classes": [],
            "_model_module": "@jupyter-widgets/controls",
            "_model_module_version": "1.5.0",
            "_model_name": "VBoxModel",
            "_view_count": null,
            "_view_module": "@jupyter-widgets/controls",
            "_view_module_version": "1.5.0",
            "_view_name": "VBoxView",
            "box_style": "",
            "children": [
              "IPY_MODEL_af114adbf3684d55a02728f9eadd2b55",
              "IPY_MODEL_2fd4760be13848e8a99fdd773fd0a941"
            ],
            "layout": "IPY_MODEL_4e55e0ebf3ff443a9ee7025af7a22c2d"
          }
        },
        "0e8d910e82524efea37aedf04424df93": {
          "model_module": "@jupyter-widgets/controls",
          "model_name": "ButtonModel",
          "model_module_version": "1.5.0",
          "state": {
            "_dom_classes": [
              "login_button"
            ],
            "_model_module": "@jupyter-widgets/controls",
            "_model_module_version": "1.5.0",
            "_model_name": "ButtonModel",
            "_view_count": null,
            "_view_module": "@jupyter-widgets/controls",
            "_view_module_version": "1.5.0",
            "_view_name": "ButtonView",
            "button_style": "",
            "description": "Login with email",
            "disabled": false,
            "icon": "",
            "layout": "IPY_MODEL_ad772913b63b4880b8faad5c17efd285",
            "style": "IPY_MODEL_e6003d2580844203931f4315d0b338f3",
            "tooltip": ""
          }
        },
        "4507e923a4194705b4a2f95306279d14": {
          "model_module": "@jupyter-widgets/controls",
          "model_name": "HTMLModel",
          "model_module_version": "1.5.0",
          "state": {
            "_dom_classes": [],
            "_model_module": "@jupyter-widgets/controls",
            "_model_module_version": "1.5.0",
            "_model_name": "HTMLModel",
            "_view_count": null,
            "_view_module": "@jupyter-widgets/controls",
            "_view_module_version": "1.5.0",
            "_view_name": "HTMLView",
            "description": "",
            "description_tooltip": null,
            "layout": "IPY_MODEL_b2f2d601f59444fa9ff8723254505e5e",
            "placeholder": "​",
            "style": "IPY_MODEL_ae11d82bff5543a489d65546f596312d",
            "value": "<center><big>or</big></center>"
          }
        },
        "f4131bc7e38b42ccb5e1521b004045e4": {
          "model_module": "@jupyter-widgets/controls",
          "model_name": "ButtonModel",
          "model_module_version": "1.5.0",
          "state": {
            "_dom_classes": [
              "google_button"
            ],
            "_model_module": "@jupyter-widgets/controls",
            "_model_module_version": "1.5.0",
            "_model_name": "ButtonModel",
            "_view_count": null,
            "_view_module": "@jupyter-widgets/controls",
            "_view_module_version": "1.5.0",
            "_view_name": "ButtonView",
            "button_style": "",
            "description": "Login with Google",
            "disabled": false,
            "icon": "",
            "layout": "IPY_MODEL_1f6814535fe7464bace23851f4a8e2c5",
            "style": "IPY_MODEL_61ab5021609b4e0c8a4b795692922fcc",
            "tooltip": ""
          }
        },
        "72162668c69c45629fe28e6581c33405": {
          "model_module": "@jupyter-widgets/base",
          "model_name": "LayoutModel",
          "model_module_version": "1.2.0",
          "state": {
            "_model_module": "@jupyter-widgets/base",
            "_model_module_version": "1.2.0",
            "_model_name": "LayoutModel",
            "_view_count": null,
            "_view_module": "@jupyter-widgets/base",
            "_view_module_version": "1.2.0",
            "_view_name": "LayoutView",
            "align_content": null,
            "align_items": null,
            "align_self": null,
            "border": null,
            "bottom": null,
            "display": null,
            "flex": null,
            "flex_flow": null,
            "grid_area": null,
            "grid_auto_columns": null,
            "grid_auto_flow": null,
            "grid_auto_rows": null,
            "grid_column": null,
            "grid_gap": null,
            "grid_row": null,
            "grid_template_areas": null,
            "grid_template_columns": null,
            "grid_template_rows": null,
            "height": null,
            "justify_content": null,
            "justify_items": null,
            "left": null,
            "margin": null,
            "max_height": null,
            "max_width": null,
            "min_height": null,
            "min_width": null,
            "object_fit": null,
            "object_position": null,
            "order": null,
            "overflow": null,
            "overflow_x": null,
            "overflow_y": null,
            "padding": null,
            "right": null,
            "top": null,
            "visibility": null,
            "width": null
          }
        },
        "af114adbf3684d55a02728f9eadd2b55": {
          "model_module": "@jupyter-widgets/controls",
          "model_name": "TextModel",
          "model_module_version": "1.5.0",
          "state": {
            "_dom_classes": [],
            "_model_module": "@jupyter-widgets/controls",
            "_model_module_version": "1.5.0",
            "_model_name": "TextModel",
            "_view_count": null,
            "_view_module": "@jupyter-widgets/controls",
            "_view_module_version": "1.5.0",
            "_view_name": "TextView",
            "continuous_update": true,
            "description": "email",
            "description_tooltip": null,
            "disabled": false,
            "layout": "IPY_MODEL_d37e390a7ff64f4f837629bed5f00984",
            "placeholder": "​",
            "style": "IPY_MODEL_95070a55704342628bbbad2447a98b8e",
            "value": ""
          }
        },
        "2fd4760be13848e8a99fdd773fd0a941": {
          "model_module": "@jupyter-widgets/controls",
          "model_name": "PasswordModel",
          "model_module_version": "1.5.0",
          "state": {
            "_dom_classes": [],
            "_model_module": "@jupyter-widgets/controls",
            "_model_module_version": "1.5.0",
            "_model_name": "PasswordModel",
            "_view_count": null,
            "_view_module": "@jupyter-widgets/controls",
            "_view_module_version": "1.5.0",
            "_view_name": "PasswordView",
            "continuous_update": true,
            "description": "password",
            "description_tooltip": null,
            "disabled": false,
            "layout": "IPY_MODEL_bdbc5462d7534c75b5d7357984001b09",
            "placeholder": "​",
            "style": "IPY_MODEL_4e29efc226ee43a1a5c3e33517ecfcde",
            "value": ""
          }
        },
        "4e55e0ebf3ff443a9ee7025af7a22c2d": {
          "model_module": "@jupyter-widgets/base",
          "model_name": "LayoutModel",
          "model_module_version": "1.2.0",
          "state": {
            "_model_module": "@jupyter-widgets/base",
            "_model_module_version": "1.2.0",
            "_model_name": "LayoutModel",
            "_view_count": null,
            "_view_module": "@jupyter-widgets/base",
            "_view_module_version": "1.2.0",
            "_view_name": "LayoutView",
            "align_content": null,
            "align_items": null,
            "align_self": null,
            "border": null,
            "bottom": null,
            "display": null,
            "flex": null,
            "flex_flow": null,
            "grid_area": null,
            "grid_auto_columns": null,
            "grid_auto_flow": null,
            "grid_auto_rows": null,
            "grid_column": null,
            "grid_gap": null,
            "grid_row": null,
            "grid_template_areas": null,
            "grid_template_columns": null,
            "grid_template_rows": null,
            "height": null,
            "justify_content": null,
            "justify_items": null,
            "left": null,
            "margin": null,
            "max_height": null,
            "max_width": null,
            "min_height": null,
            "min_width": null,
            "object_fit": null,
            "object_position": null,
            "order": null,
            "overflow": null,
            "overflow_x": null,
            "overflow_y": null,
            "padding": null,
            "right": null,
            "top": null,
            "visibility": null,
            "width": null
          }
        },
        "ad772913b63b4880b8faad5c17efd285": {
          "model_module": "@jupyter-widgets/base",
          "model_name": "LayoutModel",
          "model_module_version": "1.2.0",
          "state": {
            "_model_module": "@jupyter-widgets/base",
            "_model_module_version": "1.2.0",
            "_model_name": "LayoutModel",
            "_view_count": null,
            "_view_module": "@jupyter-widgets/base",
            "_view_module_version": "1.2.0",
            "_view_name": "LayoutView",
            "align_content": null,
            "align_items": null,
            "align_self": null,
            "border": null,
            "bottom": null,
            "display": null,
            "flex": null,
            "flex_flow": null,
            "grid_area": null,
            "grid_auto_columns": null,
            "grid_auto_flow": null,
            "grid_auto_rows": null,
            "grid_column": null,
            "grid_gap": null,
            "grid_row": null,
            "grid_template_areas": null,
            "grid_template_columns": null,
            "grid_template_rows": null,
            "height": "53px",
            "justify_content": null,
            "justify_items": null,
            "left": null,
            "margin": null,
            "max_height": null,
            "max_width": null,
            "min_height": null,
            "min_width": null,
            "object_fit": null,
            "object_position": null,
            "order": null,
            "overflow": null,
            "overflow_x": null,
            "overflow_y": null,
            "padding": null,
            "right": null,
            "top": null,
            "visibility": null,
            "width": "150px"
          }
        },
        "e6003d2580844203931f4315d0b338f3": {
          "model_module": "@jupyter-widgets/controls",
          "model_name": "ButtonStyleModel",
          "model_module_version": "1.5.0",
          "state": {
            "_model_module": "@jupyter-widgets/controls",
            "_model_module_version": "1.5.0",
            "_model_name": "ButtonStyleModel",
            "_view_count": null,
            "_view_module": "@jupyter-widgets/base",
            "_view_module_version": "1.2.0",
            "_view_name": "StyleView",
            "button_color": null,
            "font_weight": ""
          }
        },
        "b2f2d601f59444fa9ff8723254505e5e": {
          "model_module": "@jupyter-widgets/base",
          "model_name": "LayoutModel",
          "model_module_version": "1.2.0",
          "state": {
            "_model_module": "@jupyter-widgets/base",
            "_model_module_version": "1.2.0",
            "_model_name": "LayoutModel",
            "_view_count": null,
            "_view_module": "@jupyter-widgets/base",
            "_view_module_version": "1.2.0",
            "_view_name": "LayoutView",
            "align_content": null,
            "align_items": null,
            "align_self": null,
            "border": null,
            "bottom": null,
            "display": null,
            "flex": null,
            "flex_flow": null,
            "grid_area": null,
            "grid_auto_columns": null,
            "grid_auto_flow": null,
            "grid_auto_rows": null,
            "grid_column": null,
            "grid_gap": null,
            "grid_row": null,
            "grid_template_areas": null,
            "grid_template_columns": null,
            "grid_template_rows": null,
            "height": null,
            "justify_content": null,
            "justify_items": null,
            "left": null,
            "margin": null,
            "max_height": null,
            "max_width": null,
            "min_height": null,
            "min_width": null,
            "object_fit": null,
            "object_position": null,
            "order": null,
            "overflow": null,
            "overflow_x": null,
            "overflow_y": null,
            "padding": null,
            "right": null,
            "top": null,
            "visibility": null,
            "width": "100px"
          }
        },
        "ae11d82bff5543a489d65546f596312d": {
          "model_module": "@jupyter-widgets/controls",
          "model_name": "DescriptionStyleModel",
          "model_module_version": "1.5.0",
          "state": {
            "_model_module": "@jupyter-widgets/controls",
            "_model_module_version": "1.5.0",
            "_model_name": "DescriptionStyleModel",
            "_view_count": null,
            "_view_module": "@jupyter-widgets/base",
            "_view_module_version": "1.2.0",
            "_view_name": "StyleView",
            "description_width": ""
          }
        },
        "1f6814535fe7464bace23851f4a8e2c5": {
          "model_module": "@jupyter-widgets/base",
          "model_name": "LayoutModel",
          "model_module_version": "1.2.0",
          "state": {
            "_model_module": "@jupyter-widgets/base",
            "_model_module_version": "1.2.0",
            "_model_name": "LayoutModel",
            "_view_count": null,
            "_view_module": "@jupyter-widgets/base",
            "_view_module_version": "1.2.0",
            "_view_name": "LayoutView",
            "align_content": null,
            "align_items": null,
            "align_self": null,
            "border": null,
            "bottom": null,
            "display": null,
            "flex": null,
            "flex_flow": null,
            "grid_area": null,
            "grid_auto_columns": null,
            "grid_auto_flow": null,
            "grid_auto_rows": null,
            "grid_column": null,
            "grid_gap": null,
            "grid_row": null,
            "grid_template_areas": null,
            "grid_template_columns": null,
            "grid_template_rows": null,
            "height": "53px",
            "justify_content": null,
            "justify_items": null,
            "left": null,
            "margin": null,
            "max_height": null,
            "max_width": null,
            "min_height": null,
            "min_width": null,
            "object_fit": null,
            "object_position": null,
            "order": null,
            "overflow": null,
            "overflow_x": null,
            "overflow_y": null,
            "padding": null,
            "right": null,
            "top": null,
            "visibility": null,
            "width": "200px"
          }
        },
        "61ab5021609b4e0c8a4b795692922fcc": {
          "model_module": "@jupyter-widgets/controls",
          "model_name": "ButtonStyleModel",
          "model_module_version": "1.5.0",
          "state": {
            "_model_module": "@jupyter-widgets/controls",
            "_model_module_version": "1.5.0",
            "_model_name": "ButtonStyleModel",
            "_view_count": null,
            "_view_module": "@jupyter-widgets/base",
            "_view_module_version": "1.2.0",
            "_view_name": "StyleView",
            "button_color": null,
            "font_weight": ""
          }
        },
        "d37e390a7ff64f4f837629bed5f00984": {
          "model_module": "@jupyter-widgets/base",
          "model_name": "LayoutModel",
          "model_module_version": "1.2.0",
          "state": {
            "_model_module": "@jupyter-widgets/base",
            "_model_module_version": "1.2.0",
            "_model_name": "LayoutModel",
            "_view_count": null,
            "_view_module": "@jupyter-widgets/base",
            "_view_module_version": "1.2.0",
            "_view_name": "LayoutView",
            "align_content": null,
            "align_items": null,
            "align_self": null,
            "border": null,
            "bottom": null,
            "display": null,
            "flex": null,
            "flex_flow": null,
            "grid_area": null,
            "grid_auto_columns": null,
            "grid_auto_flow": null,
            "grid_auto_rows": null,
            "grid_column": null,
            "grid_gap": null,
            "grid_row": null,
            "grid_template_areas": null,
            "grid_template_columns": null,
            "grid_template_rows": null,
            "height": "25px",
            "justify_content": null,
            "justify_items": null,
            "left": null,
            "margin": null,
            "max_height": null,
            "max_width": null,
            "min_height": null,
            "min_width": null,
            "object_fit": null,
            "object_position": null,
            "order": null,
            "overflow": null,
            "overflow_x": null,
            "overflow_y": null,
            "padding": null,
            "right": null,
            "top": null,
            "visibility": null,
            "width": "300px"
          }
        },
        "95070a55704342628bbbad2447a98b8e": {
          "model_module": "@jupyter-widgets/controls",
          "model_name": "DescriptionStyleModel",
          "model_module_version": "1.5.0",
          "state": {
            "_model_module": "@jupyter-widgets/controls",
            "_model_module_version": "1.5.0",
            "_model_name": "DescriptionStyleModel",
            "_view_count": null,
            "_view_module": "@jupyter-widgets/base",
            "_view_module_version": "1.2.0",
            "_view_name": "StyleView",
            "description_width": ""
          }
        },
        "bdbc5462d7534c75b5d7357984001b09": {
          "model_module": "@jupyter-widgets/base",
          "model_name": "LayoutModel",
          "model_module_version": "1.2.0",
          "state": {
            "_model_module": "@jupyter-widgets/base",
            "_model_module_version": "1.2.0",
            "_model_name": "LayoutModel",
            "_view_count": null,
            "_view_module": "@jupyter-widgets/base",
            "_view_module_version": "1.2.0",
            "_view_name": "LayoutView",
            "align_content": null,
            "align_items": null,
            "align_self": null,
            "border": null,
            "bottom": null,
            "display": null,
            "flex": null,
            "flex_flow": null,
            "grid_area": null,
            "grid_auto_columns": null,
            "grid_auto_flow": null,
            "grid_auto_rows": null,
            "grid_column": null,
            "grid_gap": null,
            "grid_row": null,
            "grid_template_areas": null,
            "grid_template_columns": null,
            "grid_template_rows": null,
            "height": "24px",
            "justify_content": null,
            "justify_items": null,
            "left": null,
            "margin": null,
            "max_height": null,
            "max_width": null,
            "min_height": null,
            "min_width": null,
            "object_fit": null,
            "object_position": null,
            "order": null,
            "overflow": null,
            "overflow_x": null,
            "overflow_y": null,
            "padding": null,
            "right": null,
            "top": null,
            "visibility": null,
            "width": "300px"
          }
        },
        "4e29efc226ee43a1a5c3e33517ecfcde": {
          "model_module": "@jupyter-widgets/controls",
          "model_name": "DescriptionStyleModel",
          "model_module_version": "1.5.0",
          "state": {
            "_model_module": "@jupyter-widgets/controls",
            "_model_module_version": "1.5.0",
            "_model_name": "DescriptionStyleModel",
            "_view_count": null,
            "_view_module": "@jupyter-widgets/base",
            "_view_module_version": "1.2.0",
            "_view_name": "StyleView",
            "description_width": ""
          }
        }
      }
    }
  },
  "nbformat": 4,
  "nbformat_minor": 0
}